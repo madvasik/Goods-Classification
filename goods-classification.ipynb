{
 "cells": [
  {
   "cell_type": "markdown",
   "id": "357433b8-9eb6-4cec-973d-f5b616b6fbc8",
   "metadata": {},
   "source": [
    "# Использование методов машинного обучения для классификации текстов описаний товаров"
   ]
  },
  {
   "cell_type": "markdown",
   "id": "4c892793-e600-4a8c-9c79-944062710fce",
   "metadata": {},
   "source": [
    "**Матусков Никита ПМ21-1**"
   ]
  },
  {
   "cell_type": "markdown",
   "id": "9e5c2997",
   "metadata": {
    "papermill": {
     "duration": 0.013757,
     "end_time": "2023-05-11T14:00:31.746889",
     "exception": false,
     "start_time": "2023-05-11T14:00:31.733132",
     "status": "completed"
    },
    "tags": []
   },
   "source": [
    "## Оглавление: <a class=\"anchor\" id=\"0\"></a>\n",
    "\n",
    "* [1. Описание проблемы](#1) \n",
    "\n",
    "* [2. Загрузка библиотек](#2) \n",
    "\n",
    "* [3. Загрузка датасета](#3)\n",
    "\n",
    "* [4. Анализ данных](#4)\n",
    "     \n",
    "* [5. Предобработка данных](#5)\n",
    "\n",
    "* [6. Векторизация](#6)\n",
    "\n",
    "\n",
    "* [7. Обучение моделей](#7)\n",
    "    * [7.1. Logistic Regression](#7.1)\n",
    "    * [7.2. K Neighbors Classifier](#7.2)\n",
    "    * [7.3. Decision Tree](#7.3)\n",
    "    * [7.4. Support Vector Machine](#7.4)\n",
    "    * [7.5. Result](#7.5)\n",
    "\n",
    "\n",
    "* [8. Векторизация](#8)\n",
    "\n",
    "\n",
    "* [9. Обучение моделей](#9)\n",
    "    * [9.1. Logistic Regression](#9.1)\n",
    "    * [9.2. K Neighbors Classifier](#9.2)\n",
    "    * [9.3. Decision Tree](#9.3)\n",
    "    * [9.4. Support Vector Machine](#9.4)\n",
    "    * [9.5. Result](#9.5)\n",
    "\n",
    "\n",
    "* [10. Подбор гиперпараметров](#10)\n",
    "\n",
    "* [11. Результаты](#11)\n",
    "\n",
    "* [12. Заключение](#12)"
   ]
  },
  {
   "cell_type": "markdown",
   "id": "b8e85dac",
   "metadata": {
    "papermill": {
     "duration": 0.013132,
     "end_time": "2023-05-11T14:00:31.773927",
     "exception": false,
     "start_time": "2023-05-11T14:00:31.760795",
     "status": "completed"
    },
    "tags": []
   },
   "source": [
    "<a id=\"1\"></a>\n",
    "## <b>1 <span style='color:#4682B4'>|</span> Описание проблемы </b>\n",
    "* [К оглавлению](#0)"
   ]
  },
  {
   "cell_type": "markdown",
   "id": "efb4db22",
   "metadata": {
    "papermill": {
     "duration": 0.012953,
     "end_time": "2023-05-11T14:00:31.801624",
     "exception": false,
     "start_time": "2023-05-11T14:00:31.788671",
     "status": "completed"
    },
    "tags": []
   },
   "source": [
    "В настоящее время интернет-магазины становятся все более популярными среди потребителей, предоставляя им широкий выбор товаров и удобство онлайн-покупок. Однако, с ростом количества товаров в интернет-магазинах возникает проблема классификации и категоризации этих товаров, чтобы потребители могли быстро находить интересующие их предметы. Ручная классификация всех товаров является трудоемкой задачей и требует больших ресурсов, особенно в случае больших интернет-магазинов с тысячами и даже миллионами товарных позиций.\n",
    "\n",
    "В этой связи использование методов машинного обучения для классификации товаров в интернет-магазине становится актуальной задачей. Машинное обучение предлагает эффективные алгоритмы и подходы, которые могут автоматизировать процесс классификации товаров на основе их атрибутов и характеристик. Это повышает эффективность интернет-магазина, что приводит к увеличению продаж, улучшению удовлетворенности клиентов и повышению конкурентоспособности бизнеса.\n",
    "\n",
    "Целью данной курсовой работы является исследование и применение методов машинного обучения для классификации товаров. Основная задача состоит в разработке модели, способной классифицировать товары на основе имеющихся данных.\n"
   ]
  },
  {
   "cell_type": "markdown",
   "id": "9507bcfb",
   "metadata": {
    "papermill": {
     "duration": 0.013649,
     "end_time": "2023-05-11T14:00:31.829028",
     "exception": false,
     "start_time": "2023-05-11T14:00:31.815379",
     "status": "completed"
    },
    "tags": []
   },
   "source": [
    "<a id=\"2\"></a>\n",
    "## <b>2 <span style='color:#4682B4'>|</span> Загрузка библиотек</b>\n",
    "* [К оглавлению](#0)"
   ]
  },
  {
   "cell_type": "markdown",
   "id": "95d3984f",
   "metadata": {},
   "source": [
    "Загрузим необходимые библиотеки"
   ]
  },
  {
   "cell_type": "code",
   "execution_count": 1,
   "id": "9a5c11a7",
   "metadata": {
    "ExecuteTime": {
     "end_time": "2023-05-12T15:01:43.818335Z",
     "start_time": "2023-05-12T15:01:41.848403Z"
    },
    "papermill": {
     "duration": 12.693713,
     "end_time": "2023-05-11T14:00:44.536249",
     "exception": false,
     "start_time": "2023-05-11T14:00:31.842536",
     "status": "completed"
    },
    "tags": []
   },
   "outputs": [
    {
     "name": "stdout",
     "output_type": "stream",
     "text": [
      "Requirement already satisfied: pymorphy2 in /Users/madvas/opt/anaconda3/lib/python3.9/site-packages (0.9.1)\n",
      "Requirement already satisfied: docopt>=0.6 in /Users/madvas/opt/anaconda3/lib/python3.9/site-packages (from pymorphy2) (0.6.2)\n",
      "Requirement already satisfied: dawg-python>=0.7.1 in /Users/madvas/opt/anaconda3/lib/python3.9/site-packages (from pymorphy2) (0.7.2)\n",
      "Requirement already satisfied: pymorphy2-dicts-ru<3.0,>=2.4 in /Users/madvas/opt/anaconda3/lib/python3.9/site-packages (from pymorphy2) (2.4.417127.4579844)\n"
     ]
    }
   ],
   "source": [
    "!pip install pymorphy2"
   ]
  },
  {
   "cell_type": "code",
   "execution_count": 2,
   "id": "7f1bc410",
   "metadata": {
    "ExecuteTime": {
     "end_time": "2023-05-12T15:01:46.698101Z",
     "start_time": "2023-05-12T15:01:43.825270Z"
    },
    "_cell_guid": "b1076dfc-b9ad-4769-8c92-a6c4dae69d19",
    "_uuid": "8f2839f25d086af736a60e9eeb907d3b93b6e0e5",
    "papermill": {
     "duration": 2.040973,
     "end_time": "2023-05-11T14:00:46.591881",
     "exception": false,
     "start_time": "2023-05-11T14:00:44.550908",
     "status": "completed"
    },
    "tags": []
   },
   "outputs": [
    {
     "name": "stdout",
     "output_type": "stream",
     "text": [
      "Libraries Imported\n"
     ]
    },
    {
     "name": "stderr",
     "output_type": "stream",
     "text": [
      "[nltk_data] Downloading package stopwords to\n",
      "[nltk_data]     /Users/madvas/nltk_data...\n",
      "[nltk_data]   Package stopwords is already up-to-date!\n",
      "[nltk_data] Downloading package punkt to /Users/madvas/nltk_data...\n",
      "[nltk_data]   Package punkt is already up-to-date!\n"
     ]
    }
   ],
   "source": [
    "import re\n",
    "import nltk\n",
    "import warnings\n",
    "import scipy as sp\n",
    "import numpy as np\n",
    "import pandas as pd\n",
    "from tqdm import tqdm\n",
    "from functools import lru_cache\n",
    "import matplotlib.pyplot as plt\n",
    "\n",
    "from nltk.corpus import stopwords\n",
    "from pymorphy2 import MorphAnalyzer\n",
    "from nltk.tokenize import word_tokenize\n",
    "\n",
    "from sklearn.tree import DecisionTreeClassifier\n",
    "from sklearn.linear_model import RidgeClassifier\n",
    "from sklearn.exceptions import ConvergenceWarning\n",
    "from sklearn.neighbors import KNeighborsClassifier\n",
    "from sklearn.linear_model import LogisticRegression\n",
    "from sklearn.feature_extraction.text import CountVectorizer\n",
    "from sklearn.model_selection import train_test_split, GridSearchCV\n",
    "from sklearn.metrics import (accuracy_score, \n",
    "                             precision_score, \n",
    "                             recall_score, \n",
    "                             f1_score, \n",
    "                             classification_report)\n",
    "plt.rcdefaults()\n",
    "warnings.filterwarnings(\"ignore\")\n",
    "warnings.filterwarnings(\"ignore\", category=ConvergenceWarning)\n",
    "nltk.download('stopwords')\n",
    "nltk.download('punkt')\n",
    "print('Libraries Imported')"
   ]
  },
  {
   "cell_type": "markdown",
   "id": "2cb3e579",
   "metadata": {
    "papermill": {
     "duration": 0.013763,
     "end_time": "2023-05-11T14:00:46.619788",
     "exception": false,
     "start_time": "2023-05-11T14:00:46.606025",
     "status": "completed"
    },
    "tags": []
   },
   "source": [
    "<a id=\"3\"></a>\n",
    "## <b>3 <span style='color:#4682B4'>|</span> Загрузка датасета</b>\n",
    "* [К оглавлению](#0)"
   ]
  },
  {
   "cell_type": "markdown",
   "id": "82d7a040",
   "metadata": {},
   "source": [
    "Загрузим набор данных, предоставленный научным руководителем Блохиным Н.В."
   ]
  },
  {
   "cell_type": "code",
   "execution_count": 3,
   "id": "f756c2c5",
   "metadata": {
    "ExecuteTime": {
     "end_time": "2023-05-12T15:01:50.168592Z",
     "start_time": "2023-05-12T15:01:46.700470Z"
    },
    "papermill": {
     "duration": 7.248793,
     "end_time": "2023-05-11T14:00:53.882626",
     "exception": false,
     "start_time": "2023-05-11T14:00:46.633833",
     "status": "completed"
    },
    "tags": []
   },
   "outputs": [
    {
     "data": {
      "text/html": [
       "<div>\n",
       "<style scoped>\n",
       "    .dataframe tbody tr th:only-of-type {\n",
       "        vertical-align: middle;\n",
       "    }\n",
       "\n",
       "    .dataframe tbody tr th {\n",
       "        vertical-align: top;\n",
       "    }\n",
       "\n",
       "    .dataframe thead th {\n",
       "        text-align: right;\n",
       "    }\n",
       "</style>\n",
       "<table border=\"1\" class=\"dataframe\">\n",
       "  <thead>\n",
       "    <tr style=\"text-align: right;\">\n",
       "      <th></th>\n",
       "      <th>ID</th>\n",
       "      <th>Title</th>\n",
       "      <th>Price</th>\n",
       "      <th>Presence</th>\n",
       "      <th>Goods_rating</th>\n",
       "      <th>Info</th>\n",
       "      <th>Nesting_type_tags</th>\n",
       "      <th>Provider</th>\n",
       "      <th>Provider_address</th>\n",
       "      <th>Last_provider_activity</th>\n",
       "      <th>Link_to_provider</th>\n",
       "      <th>Link_to_good</th>\n",
       "      <th>Attached_files</th>\n",
       "    </tr>\n",
       "  </thead>\n",
       "  <tbody>\n",
       "    <tr>\n",
       "      <th>0</th>\n",
       "      <td>9513200</td>\n",
       "      <td>Доска пола; Имитация бруса; Блок-хаус; Декинг;...</td>\n",
       "      <td>33 800 руб.</td>\n",
       "      <td>В наличии</td>\n",
       "      <td>Популярный товар</td>\n",
       "      <td>[Толщина (мм): 20/45, ширина (мм): 90/135/140,...</td>\n",
       "      <td>[Товары и услуги, Строительные материалы, Пого...</td>\n",
       "      <td>Сибирский лес, торгово-строительная компания (...</td>\n",
       "      <td>Барнаул, г.Новоалтайск, ул.Промплощадка,13а</td>\n",
       "      <td>Был на сайте 31.10.2022</td>\n",
       "      <td>https://supl.biz/profiles/1223111/</td>\n",
       "      <td>https://supl.biz/doska-pola-imitatsiya-brusa-b...</td>\n",
       "      <td>NaN</td>\n",
       "    </tr>\n",
       "    <tr>\n",
       "      <th>1</th>\n",
       "      <td>26390427</td>\n",
       "      <td>Вагонка, блок хаус, доска пола, строганная дос...</td>\n",
       "      <td>Цена по запросу</td>\n",
       "      <td>В наличии</td>\n",
       "      <td>Популярный товар</td>\n",
       "      <td>[Продаем погонажные изделия хвойных пород, шир...</td>\n",
       "      <td>[Товары и услуги, Строительные материалы, Пого...</td>\n",
       "      <td>ООО Лестех43</td>\n",
       "      <td>Киров</td>\n",
       "      <td>Был на сайте 18.10.2022</td>\n",
       "      <td>https://supl.biz/profiles/1983162/</td>\n",
       "      <td>https://supl.biz/vagonka-blok-haus-doska-pola-...</td>\n",
       "      <td>https://suplbiz-a.akamaihd.net/media/proposals...</td>\n",
       "    </tr>\n",
       "    <tr>\n",
       "      <th>2</th>\n",
       "      <td>27214727</td>\n",
       "      <td>Погонажные изделия, вагонка, евровагонка, имит...</td>\n",
       "      <td>Цена по запросу</td>\n",
       "      <td>В наличии</td>\n",
       "      <td>нет информации о популярности товара</td>\n",
       "      <td>[Собственное производство в Архангельской обла...</td>\n",
       "      <td>[Товары и услуги, Строительные материалы, Пого...</td>\n",
       "      <td>ИП Зыков Александр Викторович</td>\n",
       "      <td>Архангельск</td>\n",
       "      <td>Был на сайте 01.11.2022</td>\n",
       "      <td>https://supl.biz/profiles/2007598/</td>\n",
       "      <td>https://supl.biz/pogonazhnyie-izdeliya-vagonka...</td>\n",
       "      <td>NaN</td>\n",
       "    </tr>\n",
       "    <tr>\n",
       "      <th>3</th>\n",
       "      <td>21552207</td>\n",
       "      <td>Технические входные двери</td>\n",
       "      <td>Цена по запросу</td>\n",
       "      <td>В наличии</td>\n",
       "      <td>Популярный товар</td>\n",
       "      <td>[Двери входные технические  металлические для ...</td>\n",
       "      <td>[Товары и услуги, Строительные материалы, Воро...</td>\n",
       "      <td>ООО Дверная Лига</td>\n",
       "      <td>Краснодар</td>\n",
       "      <td>Был на сайте 05.10.2022</td>\n",
       "      <td>https://supl.biz/profiles/1152027/</td>\n",
       "      <td>https://supl.biz/tehnicheskie-dveri-p21552207/</td>\n",
       "      <td>NaN</td>\n",
       "    </tr>\n",
       "    <tr>\n",
       "      <th>4</th>\n",
       "      <td>21605289</td>\n",
       "      <td>Тротуарная плитка Искусственный камень</td>\n",
       "      <td>1 200 руб.</td>\n",
       "      <td>Под заказ</td>\n",
       "      <td>Популярный товар</td>\n",
       "      <td>[Компания ООО Ингстром производит тротуарную п...</td>\n",
       "      <td>[Товары и услуги, Строительные материалы, Кирп...</td>\n",
       "      <td>ООО Ингстром</td>\n",
       "      <td>Назрань</td>\n",
       "      <td>Был на сайте 24.11.2021</td>\n",
       "      <td>https://supl.biz/profiles/1677244/</td>\n",
       "      <td>https://supl.biz/trotuarnaya-plitka-bruschatka...</td>\n",
       "      <td>https://suplbiz-a.akamaihd.net/media/proposals...</td>\n",
       "    </tr>\n",
       "  </tbody>\n",
       "</table>\n",
       "</div>"
      ],
      "text/plain": [
       "         ID                                              Title  \\\n",
       "0   9513200  Доска пола; Имитация бруса; Блок-хаус; Декинг;...   \n",
       "1  26390427  Вагонка, блок хаус, доска пола, строганная дос...   \n",
       "2  27214727  Погонажные изделия, вагонка, евровагонка, имит...   \n",
       "3  21552207                          Технические входные двери   \n",
       "4  21605289             Тротуарная плитка Искусственный камень   \n",
       "\n",
       "             Price   Presence                          Goods_rating  \\\n",
       "0      33 800 руб.  В наличии                      Популярный товар   \n",
       "1  Цена по запросу  В наличии                      Популярный товар   \n",
       "2  Цена по запросу  В наличии  нет информации о популярности товара   \n",
       "3  Цена по запросу  В наличии                      Популярный товар   \n",
       "4       1 200 руб.  Под заказ                      Популярный товар   \n",
       "\n",
       "                                                Info  \\\n",
       "0  [Толщина (мм): 20/45, ширина (мм): 90/135/140,...   \n",
       "1  [Продаем погонажные изделия хвойных пород, шир...   \n",
       "2  [Собственное производство в Архангельской обла...   \n",
       "3  [Двери входные технические  металлические для ...   \n",
       "4  [Компания ООО Ингстром производит тротуарную п...   \n",
       "\n",
       "                                   Nesting_type_tags  \\\n",
       "0  [Товары и услуги, Строительные материалы, Пого...   \n",
       "1  [Товары и услуги, Строительные материалы, Пого...   \n",
       "2  [Товары и услуги, Строительные материалы, Пого...   \n",
       "3  [Товары и услуги, Строительные материалы, Воро...   \n",
       "4  [Товары и услуги, Строительные материалы, Кирп...   \n",
       "\n",
       "                                            Provider  \\\n",
       "0  Сибирский лес, торгово-строительная компания (...   \n",
       "1                                       ООО Лестех43   \n",
       "2                      ИП Зыков Александр Викторович   \n",
       "3                                   ООО Дверная Лига   \n",
       "4                                       ООО Ингстром   \n",
       "\n",
       "                              Provider_address   Last_provider_activity  \\\n",
       "0  Барнаул, г.Новоалтайск, ул.Промплощадка,13а  Был на сайте 31.10.2022   \n",
       "1                                        Киров  Был на сайте 18.10.2022   \n",
       "2                                  Архангельск  Был на сайте 01.11.2022   \n",
       "3                                    Краснодар  Был на сайте 05.10.2022   \n",
       "4                                      Назрань  Был на сайте 24.11.2021   \n",
       "\n",
       "                     Link_to_provider  \\\n",
       "0  https://supl.biz/profiles/1223111/   \n",
       "1  https://supl.biz/profiles/1983162/   \n",
       "2  https://supl.biz/profiles/2007598/   \n",
       "3  https://supl.biz/profiles/1152027/   \n",
       "4  https://supl.biz/profiles/1677244/   \n",
       "\n",
       "                                        Link_to_good  \\\n",
       "0  https://supl.biz/doska-pola-imitatsiya-brusa-b...   \n",
       "1  https://supl.biz/vagonka-blok-haus-doska-pola-...   \n",
       "2  https://supl.biz/pogonazhnyie-izdeliya-vagonka...   \n",
       "3     https://supl.biz/tehnicheskie-dveri-p21552207/   \n",
       "4  https://supl.biz/trotuarnaya-plitka-bruschatka...   \n",
       "\n",
       "                                      Attached_files  \n",
       "0                                                NaN  \n",
       "1  https://suplbiz-a.akamaihd.net/media/proposals...  \n",
       "2                                                NaN  \n",
       "3                                                NaN  \n",
       "4  https://suplbiz-a.akamaihd.net/media/proposals...  "
      ]
     },
     "execution_count": 3,
     "metadata": {},
     "output_type": "execute_result"
    }
   ],
   "source": [
    "data = pd.read_json('parsed.json')\n",
    "data.head()"
   ]
  },
  {
   "cell_type": "markdown",
   "id": "832fb931",
   "metadata": {
    "papermill": {
     "duration": 0.014316,
     "end_time": "2023-05-11T14:00:53.912029",
     "exception": false,
     "start_time": "2023-05-11T14:00:53.897713",
     "status": "completed"
    },
    "tags": []
   },
   "source": [
    "<a id=\"4\"></a>\n",
    "## <b>4 <span style='color:#4682B4'>|</span> Анализ данных</b>\n",
    "* [К оглавлению](#0)"
   ]
  },
  {
   "cell_type": "markdown",
   "id": "0b06a878",
   "metadata": {
    "papermill": {
     "duration": 0.014127,
     "end_time": "2023-05-11T14:00:53.941121",
     "exception": false,
     "start_time": "2023-05-11T14:00:53.926994",
     "status": "completed"
    },
    "tags": []
   },
   "source": [
    "В датасете представлены следующие данные:\n",
    "1. ID\n",
    "2. Title (название товара)\n",
    "3. Price (цена)\n",
    "4. Goods_rating (популярность товара)\n",
    "5. Info (описание товара)\n",
    "6. Nesting_type_tags (цепочка категорий (тегов) товара)\n",
    "7. Provider (производитель)\n",
    "8. Provider_address (адрес производителя)\n",
    "9. Last_provider_activity (дата последнего нахождения на сайте)\n",
    "10. Link_to_provider (ссылка на профиль производителя)\n",
    "11. Link_to_good (ссылка на страницу товара)\n",
    "12. Attached_files (прикрепленные файлы)\n",
    "\n",
    "Приведем описания товаров к строковому типу и разделим цепочки категорий по столбцам"
   ]
  },
  {
   "cell_type": "code",
   "execution_count": 4,
   "id": "ce3827a1",
   "metadata": {
    "ExecuteTime": {
     "end_time": "2023-05-12T15:02:08.901473Z",
     "start_time": "2023-05-12T15:01:50.524804Z"
    },
    "papermill": {
     "duration": 34.997424,
     "end_time": "2023-05-11T14:01:28.953333",
     "exception": false,
     "start_time": "2023-05-11T14:00:53.955909",
     "status": "completed"
    },
    "tags": []
   },
   "outputs": [
    {
     "data": {
      "text/html": [
       "<div>\n",
       "<style scoped>\n",
       "    .dataframe tbody tr th:only-of-type {\n",
       "        vertical-align: middle;\n",
       "    }\n",
       "\n",
       "    .dataframe tbody tr th {\n",
       "        vertical-align: top;\n",
       "    }\n",
       "\n",
       "    .dataframe thead th {\n",
       "        text-align: right;\n",
       "    }\n",
       "</style>\n",
       "<table border=\"1\" class=\"dataframe\">\n",
       "  <thead>\n",
       "    <tr style=\"text-align: right;\">\n",
       "      <th></th>\n",
       "      <th>ID</th>\n",
       "      <th>Title</th>\n",
       "      <th>Price</th>\n",
       "      <th>Presence</th>\n",
       "      <th>Goods_rating</th>\n",
       "      <th>Info</th>\n",
       "      <th>Provider</th>\n",
       "      <th>Provider_address</th>\n",
       "      <th>Last_provider_activity</th>\n",
       "      <th>Link_to_provider</th>\n",
       "      <th>Link_to_good</th>\n",
       "      <th>Attached_files</th>\n",
       "      <th>Tag_1</th>\n",
       "      <th>Tag_2</th>\n",
       "      <th>Tag_3</th>\n",
       "      <th>Tag_4</th>\n",
       "      <th>Tag_5</th>\n",
       "      <th>Tag_6</th>\n",
       "      <th>Tag_7</th>\n",
       "      <th>Tag_8</th>\n",
       "    </tr>\n",
       "  </thead>\n",
       "  <tbody>\n",
       "    <tr>\n",
       "      <th>0</th>\n",
       "      <td>9513200</td>\n",
       "      <td>Доска пола; Имитация бруса; Блок-хаус; Декинг;...</td>\n",
       "      <td>33 800 руб.</td>\n",
       "      <td>В наличии</td>\n",
       "      <td>Популярный товар</td>\n",
       "      <td>Толщина (мм): 20/45, ширина (мм): 90/135/140, ...</td>\n",
       "      <td>Сибирский лес, торгово-строительная компания (...</td>\n",
       "      <td>Барнаул, г.Новоалтайск, ул.Промплощадка,13а</td>\n",
       "      <td>Был на сайте 31.10.2022</td>\n",
       "      <td>https://supl.biz/profiles/1223111/</td>\n",
       "      <td>https://supl.biz/doska-pola-imitatsiya-brusa-b...</td>\n",
       "      <td>NaN</td>\n",
       "      <td>Товары и услуги</td>\n",
       "      <td>Строительные материалы</td>\n",
       "      <td>Погонажные изделия</td>\n",
       "      <td>NaN</td>\n",
       "      <td>NaN</td>\n",
       "      <td>NaN</td>\n",
       "      <td>NaN</td>\n",
       "      <td>NaN</td>\n",
       "    </tr>\n",
       "    <tr>\n",
       "      <th>1</th>\n",
       "      <td>26390427</td>\n",
       "      <td>Вагонка, блок хаус, доска пола, строганная дос...</td>\n",
       "      <td>Цена по запросу</td>\n",
       "      <td>В наличии</td>\n",
       "      <td>Популярный товар</td>\n",
       "      <td>Продаем погонажные изделия хвойных пород, широ...</td>\n",
       "      <td>ООО Лестех43</td>\n",
       "      <td>Киров</td>\n",
       "      <td>Был на сайте 18.10.2022</td>\n",
       "      <td>https://supl.biz/profiles/1983162/</td>\n",
       "      <td>https://supl.biz/vagonka-blok-haus-doska-pola-...</td>\n",
       "      <td>https://suplbiz-a.akamaihd.net/media/proposals...</td>\n",
       "      <td>Товары и услуги</td>\n",
       "      <td>Строительные материалы</td>\n",
       "      <td>Погонажные изделия</td>\n",
       "      <td>NaN</td>\n",
       "      <td>NaN</td>\n",
       "      <td>NaN</td>\n",
       "      <td>NaN</td>\n",
       "      <td>NaN</td>\n",
       "    </tr>\n",
       "    <tr>\n",
       "      <th>2</th>\n",
       "      <td>27214727</td>\n",
       "      <td>Погонажные изделия, вагонка, евровагонка, имит...</td>\n",
       "      <td>Цена по запросу</td>\n",
       "      <td>В наличии</td>\n",
       "      <td>нет информации о популярности товара</td>\n",
       "      <td>Собственное производство в Архангельской облас...</td>\n",
       "      <td>ИП Зыков Александр Викторович</td>\n",
       "      <td>Архангельск</td>\n",
       "      <td>Был на сайте 01.11.2022</td>\n",
       "      <td>https://supl.biz/profiles/2007598/</td>\n",
       "      <td>https://supl.biz/pogonazhnyie-izdeliya-vagonka...</td>\n",
       "      <td>NaN</td>\n",
       "      <td>Товары и услуги</td>\n",
       "      <td>Строительные материалы</td>\n",
       "      <td>Погонажные изделия</td>\n",
       "      <td>NaN</td>\n",
       "      <td>NaN</td>\n",
       "      <td>NaN</td>\n",
       "      <td>NaN</td>\n",
       "      <td>NaN</td>\n",
       "    </tr>\n",
       "    <tr>\n",
       "      <th>3</th>\n",
       "      <td>21552207</td>\n",
       "      <td>Технические входные двери</td>\n",
       "      <td>Цена по запросу</td>\n",
       "      <td>В наличии</td>\n",
       "      <td>Популярный товар</td>\n",
       "      <td>Двери входные технические  металлические для п...</td>\n",
       "      <td>ООО Дверная Лига</td>\n",
       "      <td>Краснодар</td>\n",
       "      <td>Был на сайте 05.10.2022</td>\n",
       "      <td>https://supl.biz/profiles/1152027/</td>\n",
       "      <td>https://supl.biz/tehnicheskie-dveri-p21552207/</td>\n",
       "      <td>NaN</td>\n",
       "      <td>Товары и услуги</td>\n",
       "      <td>Строительные материалы</td>\n",
       "      <td>Ворота, двери</td>\n",
       "      <td>NaN</td>\n",
       "      <td>NaN</td>\n",
       "      <td>NaN</td>\n",
       "      <td>NaN</td>\n",
       "      <td>NaN</td>\n",
       "    </tr>\n",
       "    <tr>\n",
       "      <th>4</th>\n",
       "      <td>21605289</td>\n",
       "      <td>Тротуарная плитка Искусственный камень</td>\n",
       "      <td>1 200 руб.</td>\n",
       "      <td>Под заказ</td>\n",
       "      <td>Популярный товар</td>\n",
       "      <td>Компания ООО Ингстром производит тротуарную пл...</td>\n",
       "      <td>ООО Ингстром</td>\n",
       "      <td>Назрань</td>\n",
       "      <td>Был на сайте 24.11.2021</td>\n",
       "      <td>https://supl.biz/profiles/1677244/</td>\n",
       "      <td>https://supl.biz/trotuarnaya-plitka-bruschatka...</td>\n",
       "      <td>https://suplbiz-a.akamaihd.net/media/proposals...</td>\n",
       "      <td>Товары и услуги</td>\n",
       "      <td>Строительные материалы</td>\n",
       "      <td>Кирпич, бетоноблоки, шлакоблоки</td>\n",
       "      <td>NaN</td>\n",
       "      <td>NaN</td>\n",
       "      <td>NaN</td>\n",
       "      <td>NaN</td>\n",
       "      <td>NaN</td>\n",
       "    </tr>\n",
       "  </tbody>\n",
       "</table>\n",
       "</div>"
      ],
      "text/plain": [
       "         ID                                              Title  \\\n",
       "0   9513200  Доска пола; Имитация бруса; Блок-хаус; Декинг;...   \n",
       "1  26390427  Вагонка, блок хаус, доска пола, строганная дос...   \n",
       "2  27214727  Погонажные изделия, вагонка, евровагонка, имит...   \n",
       "3  21552207                          Технические входные двери   \n",
       "4  21605289             Тротуарная плитка Искусственный камень   \n",
       "\n",
       "             Price   Presence                          Goods_rating  \\\n",
       "0      33 800 руб.  В наличии                      Популярный товар   \n",
       "1  Цена по запросу  В наличии                      Популярный товар   \n",
       "2  Цена по запросу  В наличии  нет информации о популярности товара   \n",
       "3  Цена по запросу  В наличии                      Популярный товар   \n",
       "4       1 200 руб.  Под заказ                      Популярный товар   \n",
       "\n",
       "                                                Info  \\\n",
       "0  Толщина (мм): 20/45, ширина (мм): 90/135/140, ...   \n",
       "1  Продаем погонажные изделия хвойных пород, широ...   \n",
       "2  Собственное производство в Архангельской облас...   \n",
       "3  Двери входные технические  металлические для п...   \n",
       "4  Компания ООО Ингстром производит тротуарную пл...   \n",
       "\n",
       "                                            Provider  \\\n",
       "0  Сибирский лес, торгово-строительная компания (...   \n",
       "1                                       ООО Лестех43   \n",
       "2                      ИП Зыков Александр Викторович   \n",
       "3                                   ООО Дверная Лига   \n",
       "4                                       ООО Ингстром   \n",
       "\n",
       "                              Provider_address   Last_provider_activity  \\\n",
       "0  Барнаул, г.Новоалтайск, ул.Промплощадка,13а  Был на сайте 31.10.2022   \n",
       "1                                        Киров  Был на сайте 18.10.2022   \n",
       "2                                  Архангельск  Был на сайте 01.11.2022   \n",
       "3                                    Краснодар  Был на сайте 05.10.2022   \n",
       "4                                      Назрань  Был на сайте 24.11.2021   \n",
       "\n",
       "                     Link_to_provider  \\\n",
       "0  https://supl.biz/profiles/1223111/   \n",
       "1  https://supl.biz/profiles/1983162/   \n",
       "2  https://supl.biz/profiles/2007598/   \n",
       "3  https://supl.biz/profiles/1152027/   \n",
       "4  https://supl.biz/profiles/1677244/   \n",
       "\n",
       "                                        Link_to_good  \\\n",
       "0  https://supl.biz/doska-pola-imitatsiya-brusa-b...   \n",
       "1  https://supl.biz/vagonka-blok-haus-doska-pola-...   \n",
       "2  https://supl.biz/pogonazhnyie-izdeliya-vagonka...   \n",
       "3     https://supl.biz/tehnicheskie-dveri-p21552207/   \n",
       "4  https://supl.biz/trotuarnaya-plitka-bruschatka...   \n",
       "\n",
       "                                      Attached_files            Tag_1  \\\n",
       "0                                                NaN  Товары и услуги   \n",
       "1  https://suplbiz-a.akamaihd.net/media/proposals...  Товары и услуги   \n",
       "2                                                NaN  Товары и услуги   \n",
       "3                                                NaN  Товары и услуги   \n",
       "4  https://suplbiz-a.akamaihd.net/media/proposals...  Товары и услуги   \n",
       "\n",
       "                    Tag_2                            Tag_3 Tag_4 Tag_5 Tag_6  \\\n",
       "0  Строительные материалы               Погонажные изделия   NaN   NaN   NaN   \n",
       "1  Строительные материалы               Погонажные изделия   NaN   NaN   NaN   \n",
       "2  Строительные материалы               Погонажные изделия   NaN   NaN   NaN   \n",
       "3  Строительные материалы                    Ворота, двери   NaN   NaN   NaN   \n",
       "4  Строительные материалы  Кирпич, бетоноблоки, шлакоблоки   NaN   NaN   NaN   \n",
       "\n",
       "  Tag_7 Tag_8  \n",
       "0   NaN   NaN  \n",
       "1   NaN   NaN  \n",
       "2   NaN   NaN  \n",
       "3   NaN   NaN  \n",
       "4   NaN   NaN  "
      ]
     },
     "execution_count": 4,
     "metadata": {},
     "output_type": "execute_result"
    }
   ],
   "source": [
    "data['Info'] = data['Info'].astype(str).apply(lambda x: x[2:-2])\n",
    "\n",
    "data[[f\"Tag_{idx+1}\" for idx in range(8)]] = data[\"Nesting_type_tags\"].apply(pd.Series)\n",
    "data.drop(['Nesting_type_tags'], axis=1, inplace=True)\n",
    "\n",
    "data.head()"
   ]
  },
  {
   "cell_type": "markdown",
   "id": "d1c237c8",
   "metadata": {
    "papermill": {
     "duration": 0.014534,
     "end_time": "2023-05-11T14:01:28.982577",
     "exception": false,
     "start_time": "2023-05-11T14:01:28.968043",
     "status": "completed"
    },
    "tags": []
   },
   "source": [
    "Определим целевую переменную классификации"
   ]
  },
  {
   "cell_type": "code",
   "execution_count": 5,
   "id": "27f1cbb7",
   "metadata": {
    "ExecuteTime": {
     "end_time": "2023-05-12T15:02:09.860456Z",
     "start_time": "2023-05-12T15:02:08.904365Z"
    },
    "papermill": {
     "duration": 1.182502,
     "end_time": "2023-05-11T14:01:30.180187",
     "exception": false,
     "start_time": "2023-05-11T14:01:28.997685",
     "status": "completed"
    },
    "tags": []
   },
   "outputs": [
    {
     "data": {
      "text/plain": [
       "ID                        157068\n",
       "Title                     136020\n",
       "Price                      49985\n",
       "Presence                       4\n",
       "Goods_rating                   2\n",
       "Info                       91416\n",
       "Provider                    2989\n",
       "Provider_address            2036\n",
       "Last_provider_activity       743\n",
       "Link_to_provider            3134\n",
       "Link_to_good              157068\n",
       "Attached_files               752\n",
       "Tag_1                          1\n",
       "Tag_2                         22\n",
       "Tag_3                        246\n",
       "Tag_4                        783\n",
       "Tag_5                       1938\n",
       "Tag_6                       1405\n",
       "Tag_7                        149\n",
       "Tag_8                         10\n",
       "dtype: int64"
      ]
     },
     "execution_count": 5,
     "metadata": {},
     "output_type": "execute_result"
    }
   ],
   "source": [
    "data.nunique()"
   ]
  },
  {
   "cell_type": "markdown",
   "id": "fe7366a3",
   "metadata": {
    "papermill": {
     "duration": 0.01482,
     "end_time": "2023-05-11T14:01:30.210148",
     "exception": false,
     "start_time": "2023-05-11T14:01:30.195328",
     "status": "completed"
    },
    "tags": []
   },
   "source": [
    "Так как первая категория у всех одинакова, сосредоточимся на определении более специфической классификации, основанной на второй категории"
   ]
  },
  {
   "cell_type": "markdown",
   "id": "85dbcda0",
   "metadata": {
    "papermill": {
     "duration": 0.014588,
     "end_time": "2023-05-11T14:01:30.239867",
     "exception": false,
     "start_time": "2023-05-11T14:01:30.225279",
     "status": "completed"
    },
    "tags": []
   },
   "source": [
    "Признаками, на основе которых определяется категория товара, являются:\n",
    "1. Title (название товара)\n",
    "2. Info (описание товара)\n",
    "3. Provider (производитель)\n",
    "\n",
    "Остальные переменные никак не влияют на категорию товара, следовательно их можно удалить"
   ]
  },
  {
   "cell_type": "code",
   "execution_count": 6,
   "id": "622cb116",
   "metadata": {
    "ExecuteTime": {
     "end_time": "2023-05-12T15:02:09.873880Z",
     "start_time": "2023-05-12T15:02:09.862573Z"
    },
    "papermill": {
     "duration": 0.039053,
     "end_time": "2023-05-11T14:01:30.293933",
     "exception": false,
     "start_time": "2023-05-11T14:01:30.254880",
     "status": "completed"
    },
    "tags": []
   },
   "outputs": [],
   "source": [
    "data.drop(['Last_provider_activity', 'Price', 'Link_to_good', 'Link_to_provider', 'Attached_files','Presence','ID','Provider_address','Goods_rating', \n",
    "           'Tag_1','Tag_3','Tag_4', 'Tag_5', 'Tag_6', 'Tag_7', 'Tag_8'], axis=1, inplace=True)\n",
    "data.columns = ['Title', 'Info', 'Provider', 'Tag']"
   ]
  },
  {
   "cell_type": "markdown",
   "id": "0ff29b9d",
   "metadata": {
    "papermill": {
     "duration": 0.015146,
     "end_time": "2023-05-11T14:01:30.324217",
     "exception": false,
     "start_time": "2023-05-11T14:01:30.309071",
     "status": "completed"
    },
    "tags": []
   },
   "source": [
    "Избавимся от пропусков и дубликатов в датасете"
   ]
  },
  {
   "cell_type": "code",
   "execution_count": 7,
   "id": "eb4d869b",
   "metadata": {
    "ExecuteTime": {
     "end_time": "2023-05-12T15:02:10.369531Z",
     "start_time": "2023-05-12T15:02:09.884368Z"
    },
    "papermill": {
     "duration": 0.607996,
     "end_time": "2023-05-11T14:01:30.948201",
     "exception": false,
     "start_time": "2023-05-11T14:01:30.340205",
     "status": "completed"
    },
    "tags": []
   },
   "outputs": [
    {
     "data": {
      "text/plain": [
       "147235"
      ]
     },
     "execution_count": 7,
     "metadata": {},
     "output_type": "execute_result"
    }
   ],
   "source": [
    "data.dropna(subset=['Title', 'Info', 'Provider', 'Tag'], inplace=True)\n",
    "data.drop_duplicates(inplace=True)\n",
    "data = data.reset_index()\n",
    "data.shape[0]"
   ]
  },
  {
   "cell_type": "markdown",
   "id": "622c6c73",
   "metadata": {
    "papermill": {
     "duration": 0.01471,
     "end_time": "2023-05-11T14:01:30.978060",
     "exception": false,
     "start_time": "2023-05-11T14:01:30.963350",
     "status": "completed"
    },
    "tags": []
   },
   "source": [
    "В датасете присутствует 147235 уникальных товаров"
   ]
  },
  {
   "cell_type": "markdown",
   "id": "1f36e5f7",
   "metadata": {
    "papermill": {
     "duration": 0.014685,
     "end_time": "2023-05-11T14:01:31.007778",
     "exception": false,
     "start_time": "2023-05-11T14:01:30.993093",
     "status": "completed"
    },
    "tags": []
   },
   "source": [
    "Исследуем распределение товаров по категориям"
   ]
  },
  {
   "cell_type": "code",
   "execution_count": 8,
   "id": "90e56084",
   "metadata": {
    "ExecuteTime": {
     "end_time": "2023-05-12T15:02:10.389274Z",
     "start_time": "2023-05-12T15:02:10.386608Z"
    },
    "papermill": {
     "duration": 0.046372,
     "end_time": "2023-05-11T14:01:31.069152",
     "exception": false,
     "start_time": "2023-05-11T14:01:31.022780",
     "status": "completed"
    },
    "tags": []
   },
   "outputs": [
    {
     "data": {
      "text/plain": [
       "Оборудование и инструменты                 65315\n",
       "Строительные материалы                     45421\n",
       "Автотовары                                 10783\n",
       "Строительство                               9941\n",
       "Одежда, обувь, игрушки                      4516\n",
       "Электроника и электротехника                3631\n",
       "Металлы                                     1653\n",
       "Спорт. туризм. отдых                        1653\n",
       "Продукты питания, напитки                   1335\n",
       "Транспортные услуги                          858\n",
       "Компьютеры, бытовая и офисная техника        527\n",
       "Хозтовары, упаковка, канцелярия              515\n",
       "Полиграфия и реклама                         372\n",
       "Мебель и фурнитура                           361\n",
       "Юридические, финансовые и бизнес-услуги      172\n",
       "Химия и топливо                               63\n",
       "Коммунальные услуги                           49\n",
       "Текстиль для дома                             21\n",
       "Охрана и безопасность                         21\n",
       "Ит. интернет. связь.                          15\n",
       "Потребительские товары и спецмагазины         11\n",
       "Здоровье и красота                             2\n",
       "Name: Tag, dtype: int64"
      ]
     },
     "execution_count": 8,
     "metadata": {},
     "output_type": "execute_result"
    }
   ],
   "source": [
    "data['Tag'].value_counts()"
   ]
  },
  {
   "cell_type": "code",
   "execution_count": 9,
   "id": "a0cfd40d",
   "metadata": {
    "ExecuteTime": {
     "end_time": "2023-05-12T15:02:10.417209Z",
     "start_time": "2023-05-12T15:02:10.405632Z"
    },
    "papermill": {
     "duration": 0.050432,
     "end_time": "2023-05-11T14:01:31.135136",
     "exception": false,
     "start_time": "2023-05-11T14:01:31.084704",
     "status": "completed"
    },
    "tags": []
   },
   "outputs": [
    {
     "data": {
      "text/plain": [
       "count       22.000000\n",
       "mean      6692.500000\n",
       "std      16331.758817\n",
       "min          2.000000\n",
       "25%         52.500000\n",
       "50%        521.000000\n",
       "75%       3136.500000\n",
       "max      65315.000000\n",
       "Name: Tag, dtype: float64"
      ]
     },
     "execution_count": 9,
     "metadata": {},
     "output_type": "execute_result"
    }
   ],
   "source": [
    "data['Tag'].value_counts().describe()"
   ]
  },
  {
   "cell_type": "markdown",
   "id": "84f27ee0",
   "metadata": {
    "papermill": {
     "duration": 0.015095,
     "end_time": "2023-05-11T14:01:31.165967",
     "exception": false,
     "start_time": "2023-05-11T14:01:31.150872",
     "status": "completed"
    },
    "tags": []
   },
   "source": [
    "Построим гистограмму размеров категорий с логарифмической шкалой"
   ]
  },
  {
   "cell_type": "code",
   "execution_count": 10,
   "id": "8550cdd4",
   "metadata": {
    "ExecuteTime": {
     "end_time": "2023-05-12T15:02:10.892487Z",
     "start_time": "2023-05-12T15:02:10.412806Z"
    },
    "papermill": {
     "duration": 0.952042,
     "end_time": "2023-05-11T14:01:32.133646",
     "exception": false,
     "start_time": "2023-05-11T14:01:31.181604",
     "status": "completed"
    },
    "tags": []
   },
   "outputs": [
    {
     "data": {
      "image/png": "[encoded data removed]",
      "text/plain": [
       "<Figure size 640x480 with 1 Axes>"
      ]
     },
     "metadata": {},
     "output_type": "display_data"
    }
   ],
   "source": [
    "plt.hist(data['Tag'], bins=data['Tag'].nunique(), rwidth=0.5)\n",
    "plt.xticks(rotation=90, fontsize=6)\n",
    "plt.yscale('log')  \n",
    "plt.ylabel('Количество товаров')\n",
    "plt.title('Распределение категорий')\n",
    "plt.show()"
   ]
  },
  {
   "cell_type": "markdown",
   "id": "66784698",
   "metadata": {
    "papermill": {
     "duration": 0.016071,
     "end_time": "2023-05-11T14:01:32.166699",
     "exception": false,
     "start_time": "2023-05-11T14:01:32.150628",
     "status": "completed"
    },
    "tags": []
   },
   "source": [
    "<a id=\"5\"></a>\n",
    "## <b>5 <span style='color:#4682B4'>|</span> Предобработка данных</b>\n",
    "* [К оглавлению](#0)"
   ]
  },
  {
   "cell_type": "markdown",
   "id": "d836ec80",
   "metadata": {
    "papermill": {
     "duration": 0.016004,
     "end_time": "2023-05-11T14:01:32.199475",
     "exception": false,
     "start_time": "2023-05-11T14:01:32.183471",
     "status": "completed"
    },
    "tags": []
   },
   "source": [
    "Произведем препроцессинг, он будет включать в себя следующие пункты:\n",
    "1. Приведение текста к нижнему регистру\n",
    "2. Удаление всех символов, не являющихся буквами русского или английского языка\n",
    "3. Токенизация (разбиение текста на отдельные слова)\n",
    "4. Удаление слов, которые не вносят никакой дополнительной информации в текст (стоп-слов) при помощи модуля nltk.corpus\n",
    "5. Приведение всех слов к начальной форме путем лемматизации при помощи библиотеки pymorphy2"
   ]
  },
  {
   "cell_type": "code",
   "execution_count": 11,
   "id": "b69b6e64",
   "metadata": {
    "ExecuteTime": {
     "end_time": "2023-05-12T15:02:11.006531Z",
     "start_time": "2023-05-12T15:02:10.895834Z"
    },
    "papermill": {
     "duration": 0.265867,
     "end_time": "2023-05-11T14:01:32.481884",
     "exception": false,
     "start_time": "2023-05-11T14:01:32.216017",
     "status": "completed"
    },
    "tags": []
   },
   "outputs": [],
   "source": [
    "# токенизация\n",
    "regex = re.compile(\"[А-Яа-яA-z]+\")\n",
    "\n",
    "def tokenize_text(text):\n",
    "    try:\n",
    "        return regex.findall(text.lower())\n",
    "    except:\n",
    "        return []\n",
    "\n",
    "# удаление стоп-слов\n",
    "stop_words = set(stopwords.words('russian'))\n",
    "\n",
    "def remove_stopwords(tokens):\n",
    "    return [token for token in tokens if not token in stop_words]\n",
    "\n",
    "# лемматизация\n",
    "morph = MorphAnalyzer()\n",
    "\n",
    "@lru_cache(maxsize=128)\n",
    "def lemmatize_word(word):\n",
    "    return morph.parse(word)[0].normal_form\n",
    "\n",
    "def lemmatize_text(text):\n",
    "    return [lemmatize_word(word) for word in text]\n",
    "\n",
    "def preprocess_text(text):\n",
    "    tokens = tokenize_text(text)\n",
    "    clean_text = remove_stopwords(tokens)\n",
    "    return ' '.join(lemmatize_text(clean_text))"
   ]
  },
  {
   "cell_type": "code",
   "execution_count": 12,
   "id": "c6efbc91",
   "metadata": {
    "ExecuteTime": {
     "end_time": "2023-05-12T15:06:49.884092Z",
     "start_time": "2023-05-12T15:02:11.008640Z"
    },
    "papermill": {
     "duration": 563.704803,
     "end_time": "2023-05-11T14:10:56.203486",
     "exception": false,
     "start_time": "2023-05-11T14:01:32.498683",
     "status": "completed"
    },
    "tags": []
   },
   "outputs": [
    {
     "name": "stderr",
     "output_type": "stream",
     "text": [
      "100%|██████████| 147235/147235 [00:12<00:00, 11896.16it/s]\n",
      "100%|██████████| 147235/147235 [04:15<00:00, 577.20it/s] \n",
      "100%|██████████| 147235/147235 [00:01<00:00, 75777.10it/s] \n"
     ]
    },
    {
     "data": {
      "text/html": [
       "<div>\n",
       "<style scoped>\n",
       "    .dataframe tbody tr th:only-of-type {\n",
       "        vertical-align: middle;\n",
       "    }\n",
       "\n",
       "    .dataframe tbody tr th {\n",
       "        vertical-align: top;\n",
       "    }\n",
       "\n",
       "    .dataframe thead th {\n",
       "        text-align: right;\n",
       "    }\n",
       "</style>\n",
       "<table border=\"1\" class=\"dataframe\">\n",
       "  <thead>\n",
       "    <tr style=\"text-align: right;\">\n",
       "      <th></th>\n",
       "      <th>index</th>\n",
       "      <th>Title</th>\n",
       "      <th>Info</th>\n",
       "      <th>Provider</th>\n",
       "      <th>Tag</th>\n",
       "      <th>Title_lem</th>\n",
       "      <th>Info_lem</th>\n",
       "      <th>Provider_lem</th>\n",
       "    </tr>\n",
       "  </thead>\n",
       "  <tbody>\n",
       "    <tr>\n",
       "      <th>0</th>\n",
       "      <td>0</td>\n",
       "      <td>Доска пола; Имитация бруса; Блок-хаус; Декинг;...</td>\n",
       "      <td>Толщина (мм): 20/45, ширина (мм): 90/135/140, ...</td>\n",
       "      <td>Сибирский лес, торгово-строительная компания (...</td>\n",
       "      <td>Строительные материалы</td>\n",
       "      <td>доска пол имитация брус блок хаус декинг строг...</td>\n",
       "      <td>толщина мм ширина мм длина мм цена указать сорт</td>\n",
       "      <td>сибирский лес торговый строительный компания о...</td>\n",
       "    </tr>\n",
       "    <tr>\n",
       "      <th>1</th>\n",
       "      <td>1</td>\n",
       "      <td>Вагонка, блок хаус, доска пола, строганная дос...</td>\n",
       "      <td>Продаем погонажные изделия хвойных пород, широ...</td>\n",
       "      <td>ООО Лестех43</td>\n",
       "      <td>Строительные материалы</td>\n",
       "      <td>вагонка блок хаус доска пол строгать доска ими...</td>\n",
       "      <td>продавать погонажный изделие хвойный порода ши...</td>\n",
       "      <td>ооо лестёха</td>\n",
       "    </tr>\n",
       "    <tr>\n",
       "      <th>2</th>\n",
       "      <td>2</td>\n",
       "      <td>Погонажные изделия, вагонка, евровагонка, имит...</td>\n",
       "      <td>Собственное производство в Архангельской облас...</td>\n",
       "      <td>ИП Зыков Александр Викторович</td>\n",
       "      <td>Строительные материалы</td>\n",
       "      <td>погонажный изделие вагонка евровагонка имитаци...</td>\n",
       "      <td>собственный производство архангельский область...</td>\n",
       "      <td>ип зык александр викторович</td>\n",
       "    </tr>\n",
       "    <tr>\n",
       "      <th>3</th>\n",
       "      <td>3</td>\n",
       "      <td>Технические входные двери</td>\n",
       "      <td>Двери входные технические  металлические для п...</td>\n",
       "      <td>ООО Дверная Лига</td>\n",
       "      <td>Строительные материалы</td>\n",
       "      <td>технический входной дверь</td>\n",
       "      <td>дверь входной технический металлический подсоб...</td>\n",
       "      <td>ооо дверной лига</td>\n",
       "    </tr>\n",
       "    <tr>\n",
       "      <th>4</th>\n",
       "      <td>4</td>\n",
       "      <td>Тротуарная плитка Искусственный камень</td>\n",
       "      <td>Компания ООО Ингстром производит тротуарную пл...</td>\n",
       "      <td>ООО Ингстром</td>\n",
       "      <td>Строительные материалы</td>\n",
       "      <td>тротуарный плитка искусственный камень</td>\n",
       "      <td>компания ооо ингстром производить тротуарный п...</td>\n",
       "      <td>ооо ингстром</td>\n",
       "    </tr>\n",
       "  </tbody>\n",
       "</table>\n",
       "</div>"
      ],
      "text/plain": [
       "   index                                              Title  \\\n",
       "0      0  Доска пола; Имитация бруса; Блок-хаус; Декинг;...   \n",
       "1      1  Вагонка, блок хаус, доска пола, строганная дос...   \n",
       "2      2  Погонажные изделия, вагонка, евровагонка, имит...   \n",
       "3      3                          Технические входные двери   \n",
       "4      4             Тротуарная плитка Искусственный камень   \n",
       "\n",
       "                                                Info  \\\n",
       "0  Толщина (мм): 20/45, ширина (мм): 90/135/140, ...   \n",
       "1  Продаем погонажные изделия хвойных пород, широ...   \n",
       "2  Собственное производство в Архангельской облас...   \n",
       "3  Двери входные технические  металлические для п...   \n",
       "4  Компания ООО Ингстром производит тротуарную пл...   \n",
       "\n",
       "                                            Provider                     Tag  \\\n",
       "0  Сибирский лес, торгово-строительная компания (...  Строительные материалы   \n",
       "1                                       ООО Лестех43  Строительные материалы   \n",
       "2                      ИП Зыков Александр Викторович  Строительные материалы   \n",
       "3                                   ООО Дверная Лига  Строительные материалы   \n",
       "4                                       ООО Ингстром  Строительные материалы   \n",
       "\n",
       "                                           Title_lem  \\\n",
       "0  доска пол имитация брус блок хаус декинг строг...   \n",
       "1  вагонка блок хаус доска пол строгать доска ими...   \n",
       "2  погонажный изделие вагонка евровагонка имитаци...   \n",
       "3                          технический входной дверь   \n",
       "4             тротуарный плитка искусственный камень   \n",
       "\n",
       "                                            Info_lem  \\\n",
       "0    толщина мм ширина мм длина мм цена указать сорт   \n",
       "1  продавать погонажный изделие хвойный порода ши...   \n",
       "2  собственный производство архангельский область...   \n",
       "3  дверь входной технический металлический подсоб...   \n",
       "4  компания ооо ингстром производить тротуарный п...   \n",
       "\n",
       "                                        Provider_lem  \n",
       "0  сибирский лес торговый строительный компания о...  \n",
       "1                                        ооо лестёха  \n",
       "2                        ип зык александр викторович  \n",
       "3                                   ооо дверной лига  \n",
       "4                                       ооо ингстром  "
      ]
     },
     "execution_count": 12,
     "metadata": {},
     "output_type": "execute_result"
    }
   ],
   "source": [
    "data['Title_lem'] = [preprocess_text(text) for text in tqdm(data['Title'])]\n",
    "data['Info_lem'] = [preprocess_text(text) for text in tqdm(data['Info'])]\n",
    "data['Provider_lem'] = [preprocess_text(text) for text in tqdm(data['Provider'])]\n",
    "\n",
    "data.head()"
   ]
  },
  {
   "cell_type": "markdown",
   "id": "069f8f6c",
   "metadata": {
    "papermill": {
     "duration": 0.017355,
     "end_time": "2023-05-11T14:10:56.238445",
     "exception": false,
     "start_time": "2023-05-11T14:10:56.221090",
     "status": "completed"
    },
    "tags": []
   },
   "source": [
    "<a id=\"6\"></a>\n",
    "## <b>6 <span style='color:#4682B4'>|</span> Векторизация </b>\n",
    "* [К оглавлению](#0)"
   ]
  },
  {
   "cell_type": "markdown",
   "id": "1c94a3c4",
   "metadata": {
    "papermill": {
     "duration": 0.017079,
     "end_time": "2023-05-11T14:10:56.272964",
     "exception": false,
     "start_time": "2023-05-11T14:10:56.255885",
     "status": "completed"
    },
    "tags": []
   },
   "source": [
    "Текстовые данные не могут быть использованы непосредственно в алгоритмах машинного обучения, поэтому требуется преобразовать их в числовые векторы. Этот процесс называется векторизацией. Произведем его одним из наиболее распространенных методов, а именно при помощи мешка слов (Bag-of-Words) из библиотеки sklearn"
   ]
  },
  {
   "cell_type": "markdown",
   "id": "f9836921",
   "metadata": {
    "papermill": {
     "duration": 0.016947,
     "end_time": "2023-05-11T14:10:56.307188",
     "exception": false,
     "start_time": "2023-05-11T14:10:56.290241",
     "status": "completed"
    },
    "tags": []
   },
   "source": [
    "Для начала будем использовать только признак, содержащий описание товара (Info). Разделим данные на обучающую и тестовую выборки и векторизируем их"
   ]
  },
  {
   "cell_type": "code",
   "execution_count": 13,
   "id": "acd3e160",
   "metadata": {
    "ExecuteTime": {
     "end_time": "2023-05-12T15:06:53.398286Z",
     "start_time": "2023-05-12T15:06:49.884314Z"
    },
    "papermill": {
     "duration": 5.597906,
     "end_time": "2023-05-11T14:11:01.922432",
     "exception": false,
     "start_time": "2023-05-11T14:10:56.324526",
     "status": "completed"
    },
    "tags": []
   },
   "outputs": [],
   "source": [
    "X = data['Info_lem']\n",
    "y = data['Tag']\n",
    "X_train, X_test, y_train, y_test = train_test_split(X, y, test_size = 0.25, random_state=5)\n",
    "\n",
    "vec = CountVectorizer()\n",
    "X_train_v = vec.fit_transform(X_train)\n",
    "X_test_v = vec.transform(X_test)"
   ]
  },
  {
   "cell_type": "markdown",
   "id": "df261a6e",
   "metadata": {
    "papermill": {
     "duration": 0.017748,
     "end_time": "2023-05-11T14:11:01.957976",
     "exception": false,
     "start_time": "2023-05-11T14:11:01.940228",
     "status": "completed"
    },
    "tags": []
   },
   "source": [
    "<a id=\"7\"></a>\n",
    "## <b>7 <span style='color:#4682B4'>|</span> Обучение моделей</b>\n",
    "* [К оглавлению](#0)"
   ]
  },
  {
   "cell_type": "markdown",
   "id": "9b8e6fe6",
   "metadata": {
    "papermill": {
     "duration": 0.016834,
     "end_time": "2023-05-11T14:11:01.992015",
     "exception": false,
     "start_time": "2023-05-11T14:11:01.975181",
     "status": "completed"
    },
    "tags": []
   },
   "source": [
    "Перейдем к обучению нескольких моделей.\n",
    "\n",
    "Создадим таблицу, куда будем вносить полученные значения метрик.\n",
    "\n",
    "Будем использовать следующие метрики:\n",
    "1. **Precision (точность)** измеряет, какая доля положительно классифицированных примеров действительно является положительными. Она предоставляет информацию о способности модели избегать ложных положительных результатов\n",
    "2. **Recall (полнота)** измеряет, какая доля положительных примеров модель способна обнаружить. Она позволяет оценить способность модели избегать ложных отрицательных результатов\n",
    "3. **F1-score** является гармоническим средним между точностью и полнотой. Она предоставляет общую меру производительности классификационной модели\n",
    "4. **Accuracy (точность классификации)** представляет собой общую долю правильно классифицированных примеров по отношению ко всем примерам"
   ]
  },
  {
   "cell_type": "code",
   "execution_count": 14,
   "id": "1ed0cad3",
   "metadata": {
    "ExecuteTime": {
     "end_time": "2023-05-12T15:06:53.403917Z",
     "start_time": "2023-05-12T15:06:53.402211Z"
    },
    "papermill": {
     "duration": 0.027553,
     "end_time": "2023-05-11T14:11:02.036736",
     "exception": false,
     "start_time": "2023-05-11T14:11:02.009183",
     "status": "completed"
    },
    "tags": []
   },
   "outputs": [],
   "source": [
    "results1 = pd.DataFrame({'Model': [],\n",
    "                        'F1-score': [],\n",
    "                        'Precision': [],\n",
    "                        'Recall': [],\n",
    "                        'Accuracy': []})"
   ]
  },
  {
   "cell_type": "markdown",
   "id": "dff153b1",
   "metadata": {
    "papermill": {
     "duration": 0.016728,
     "end_time": "2023-05-11T14:11:02.070610",
     "exception": false,
     "start_time": "2023-05-11T14:11:02.053882",
     "status": "completed"
    },
    "tags": []
   },
   "source": [
    "<a id=\"7.1\"></a>\n",
    "### <b>7.1 <span style='color:#4682B4'>|</span> Logistic Regression</b>"
   ]
  },
  {
   "cell_type": "markdown",
   "id": "fe88d5aa",
   "metadata": {},
   "source": [
    "**Логистическая регрессия** - это метод машинного обучения, который основывается на логистической функции, преобразующей линейную комбинацию признаков в вероятность. В процессе обучения модель находит оптимальные веса признаков. Затем она использует сигмоидную функцию для преобразования в число от 0 до 1, что соответствует вероятности."
   ]
  },
  {
   "cell_type": "code",
   "execution_count": 15,
   "id": "387afddc",
   "metadata": {
    "ExecuteTime": {
     "end_time": "2023-05-12T15:07:15.468261Z",
     "start_time": "2023-05-12T15:06:53.406483Z"
    },
    "papermill": {
     "duration": 45.599865,
     "end_time": "2023-05-11T14:11:47.687762",
     "exception": false,
     "start_time": "2023-05-11T14:11:02.087897",
     "status": "completed"
    },
    "tags": []
   },
   "outputs": [
    {
     "name": "stdout",
     "output_type": "stream",
     "text": [
      "CPU times: user 1min 55s, sys: 16.5 s, total: 2min 12s\n",
      "Wall time: 21.2 s\n"
     ]
    }
   ],
   "source": [
    "%%time\n",
    "model = LogisticRegression()\n",
    "model.fit(X_train_v, y_train)\n",
    "y_pred = model.predict(X_test_v)\n",
    "\n",
    "f1 = f1_score(y_test, y_pred, average='macro')\n",
    "prec= precision_score(y_test, y_pred, average= 'macro')\n",
    "rec = recall_score(y_test, y_pred,average='macro')\n",
    "acc = accuracy_score(y_test, y_pred)\n",
    "\n",
    "results1.loc[len(results1)] = ['Logistic Regression', round(f1, 5), round(prec, 5), round(rec, 5), round(acc, 5)]"
   ]
  },
  {
   "cell_type": "markdown",
   "id": "a07dacd9",
   "metadata": {
    "papermill": {
     "duration": 0.016938,
     "end_time": "2023-05-11T14:11:47.722037",
     "exception": false,
     "start_time": "2023-05-11T14:11:47.705099",
     "status": "completed"
    },
    "tags": []
   },
   "source": [
    "<a id=\"7.2\"></a>\n",
    "### <b>7.2 <span style='color:#4682B4'>|</span> K Neighbors Classifier</b>"
   ]
  },
  {
   "cell_type": "markdown",
   "id": "630018b7",
   "metadata": {},
   "source": [
    "**K ближайших соседей** - алгоритм классификации, который использует близость объектов для определения класса новых данных. Он выбирает K ближайших соседей и присваивает новым данным класс, наиболее часто встречающийся среди этих соседей."
   ]
  },
  {
   "cell_type": "code",
   "execution_count": 16,
   "id": "6ca97aec",
   "metadata": {
    "ExecuteTime": {
     "end_time": "2023-05-12T15:08:36.728524Z",
     "start_time": "2023-05-12T15:07:15.773584Z"
    },
    "papermill": {
     "duration": 137.918392,
     "end_time": "2023-05-11T14:14:05.657972",
     "exception": false,
     "start_time": "2023-05-11T14:11:47.739580",
     "status": "completed"
    },
    "tags": []
   },
   "outputs": [
    {
     "name": "stdout",
     "output_type": "stream",
     "text": [
      "CPU times: user 55.4 s, sys: 20 s, total: 1min 15s\n",
      "Wall time: 1min 20s\n"
     ]
    }
   ],
   "source": [
    "%%time\n",
    "model = KNeighborsClassifier()\n",
    "model.fit(X_train_v, y_train)\n",
    "y_pred = model.predict(X_test_v)\n",
    "\n",
    "f1 = f1_score(y_test, y_pred, average='macro')\n",
    "prec= precision_score(y_test, y_pred, average= 'macro')\n",
    "rec = recall_score(y_test, y_pred, average='macro')\n",
    "acc = accuracy_score(y_test, y_pred)\n",
    "\n",
    "results1.loc[len(results1)] = ['K Neighbors Classifier',  round(f1, 5), round(prec, 5), round(rec, 5), round(acc, 5)]"
   ]
  },
  {
   "cell_type": "markdown",
   "id": "fc68e4c1",
   "metadata": {
    "papermill": {
     "duration": 0.017053,
     "end_time": "2023-05-11T14:14:05.692465",
     "exception": false,
     "start_time": "2023-05-11T14:14:05.675412",
     "status": "completed"
    },
    "tags": []
   },
   "source": [
    "<a id=\"7.3\"></a>\n",
    "### <b>7.3 <span style='color:#4682B4'>|</span> Decision Tree</b>"
   ]
  },
  {
   "cell_type": "markdown",
   "id": "56424de7",
   "metadata": {},
   "source": [
    "**Дерево решений** представляет собой модель, которая использует древовидную структуру для классификации данных, основываясь на значениях различных признаков."
   ]
  },
  {
   "cell_type": "code",
   "execution_count": 17,
   "id": "950ec366",
   "metadata": {
    "ExecuteTime": {
     "end_time": "2023-05-12T15:08:51.440716Z",
     "start_time": "2023-05-12T15:08:36.729955Z"
    },
    "papermill": {
     "duration": 39.256241,
     "end_time": "2023-05-11T14:14:44.966048",
     "exception": false,
     "start_time": "2023-05-11T14:14:05.709807",
     "status": "completed"
    },
    "tags": []
   },
   "outputs": [
    {
     "name": "stdout",
     "output_type": "stream",
     "text": [
      "CPU times: user 14.6 s, sys: 83.4 ms, total: 14.7 s\n",
      "Wall time: 14.7 s\n"
     ]
    }
   ],
   "source": [
    "%%time\n",
    "model = DecisionTreeClassifier()\n",
    "model.fit(X_train_v, y_train)\n",
    "y_pred = model.predict(X_test_v)\n",
    "\n",
    "f1 = f1_score(y_test, y_pred, average='macro')\n",
    "prec= precision_score(y_test, y_pred, average= 'macro')\n",
    "rec = recall_score(y_test, y_pred, average='macro')\n",
    "acc = accuracy_score(y_test, y_pred)\n",
    "\n",
    "results1.loc[len(results1)] = ['Random Forest', round(f1, 5), round(prec, 5), round(rec, 5), round(acc, 5)]"
   ]
  },
  {
   "cell_type": "markdown",
   "id": "963e229f",
   "metadata": {
    "papermill": {
     "duration": 0.016929,
     "end_time": "2023-05-11T14:14:45.000276",
     "exception": false,
     "start_time": "2023-05-11T14:14:44.983347",
     "status": "completed"
    },
    "tags": []
   },
   "source": [
    "<a id=\"7.4\"></a>\n",
    "### <b>7.4 <span style='color:#4682B4'>|</span> Ridge Classifier</b>"
   ]
  },
  {
   "cell_type": "markdown",
   "id": "ee7bad5a",
   "metadata": {},
   "source": [
    "**Гребневой классификатор** - это линейный классификатор, который использует регуляризацию для балансировки модели и предотвращения переобучения."
   ]
  },
  {
   "cell_type": "code",
   "execution_count": 18,
   "id": "288124f2",
   "metadata": {
    "ExecuteTime": {
     "end_time": "2023-05-12T15:12:52.778250Z",
     "start_time": "2023-05-12T15:08:52.110329Z"
    },
    "papermill": {
     "duration": 494.24045,
     "end_time": "2023-05-11T14:22:59.258129",
     "exception": false,
     "start_time": "2023-05-11T14:14:45.017679",
     "status": "completed"
    },
    "tags": []
   },
   "outputs": [
    {
     "name": "stdout",
     "output_type": "stream",
     "text": [
      "CPU times: user 25min 47s, sys: 3min 24s, total: 29min 11s\n",
      "Wall time: 3min 46s\n"
     ]
    }
   ],
   "source": [
    "%%time\n",
    "model = RidgeClassifier()\n",
    "model.fit(X_train_v, y_train)\n",
    "y_pred = model.predict(X_test_v)\n",
    "\n",
    "f1 = f1_score(y_test, y_pred, average='macro')\n",
    "prec= precision_score(y_test, y_pred, average= 'macro')\n",
    "rec = recall_score(y_test, y_pred, average='macro')\n",
    "acc = accuracy_score(y_test, y_pred)\n",
    "\n",
    "results1.loc[len(results1)] = ['Ridge Classifier', round(f1, 5), round(prec, 5), round(rec, 5), round(acc, 5)]"
   ]
  },
  {
   "cell_type": "markdown",
   "id": "b176e7c9",
   "metadata": {
    "papermill": {
     "duration": 0.017791,
     "end_time": "2023-05-11T14:22:59.293580",
     "exception": false,
     "start_time": "2023-05-11T14:22:59.275789",
     "status": "completed"
    },
    "tags": []
   },
   "source": [
    "<a id=\"7.5\"></a>\n",
    "### <b>7.5 <span style='color:#4682B4'>|</span> Результаты</b>"
   ]
  },
  {
   "cell_type": "markdown",
   "id": "09a16e66",
   "metadata": {},
   "source": [
    "Выведем метрики обученных моделей"
   ]
  },
  {
   "cell_type": "code",
   "execution_count": 19,
   "id": "bea3bc1d",
   "metadata": {
    "ExecuteTime": {
     "end_time": "2023-05-12T15:12:52.786113Z",
     "start_time": "2023-05-12T15:12:52.784145Z"
    },
    "papermill": {
     "duration": 0.038223,
     "end_time": "2023-05-11T14:22:59.349996",
     "exception": false,
     "start_time": "2023-05-11T14:22:59.311773",
     "status": "completed"
    },
    "tags": []
   },
   "outputs": [
    {
     "data": {
      "text/html": [
       "<div>\n",
       "<style scoped>\n",
       "    .dataframe tbody tr th:only-of-type {\n",
       "        vertical-align: middle;\n",
       "    }\n",
       "\n",
       "    .dataframe tbody tr th {\n",
       "        vertical-align: top;\n",
       "    }\n",
       "\n",
       "    .dataframe thead th {\n",
       "        text-align: right;\n",
       "    }\n",
       "</style>\n",
       "<table border=\"1\" class=\"dataframe\">\n",
       "  <thead>\n",
       "    <tr style=\"text-align: right;\">\n",
       "      <th></th>\n",
       "      <th>Model</th>\n",
       "      <th>F1-score</th>\n",
       "      <th>Precision</th>\n",
       "      <th>Recall</th>\n",
       "      <th>Accuracy</th>\n",
       "    </tr>\n",
       "  </thead>\n",
       "  <tbody>\n",
       "    <tr>\n",
       "      <th>2</th>\n",
       "      <td>Random Forest</td>\n",
       "      <td>0.68432</td>\n",
       "      <td>0.79561</td>\n",
       "      <td>0.61929</td>\n",
       "      <td>0.78234</td>\n",
       "    </tr>\n",
       "    <tr>\n",
       "      <th>3</th>\n",
       "      <td>Ridge Classifier</td>\n",
       "      <td>0.65693</td>\n",
       "      <td>0.77981</td>\n",
       "      <td>0.59422</td>\n",
       "      <td>0.77628</td>\n",
       "    </tr>\n",
       "    <tr>\n",
       "      <th>0</th>\n",
       "      <td>Logistic Regression</td>\n",
       "      <td>0.65349</td>\n",
       "      <td>0.80806</td>\n",
       "      <td>0.57347</td>\n",
       "      <td>0.78155</td>\n",
       "    </tr>\n",
       "    <tr>\n",
       "      <th>1</th>\n",
       "      <td>K Neighbors Classifier</td>\n",
       "      <td>0.63475</td>\n",
       "      <td>0.79363</td>\n",
       "      <td>0.55494</td>\n",
       "      <td>0.76604</td>\n",
       "    </tr>\n",
       "  </tbody>\n",
       "</table>\n",
       "</div>"
      ],
      "text/plain": [
       "                    Model  F1-score  Precision   Recall  Accuracy\n",
       "2           Random Forest   0.68432    0.79561  0.61929   0.78234\n",
       "3        Ridge Classifier   0.65693    0.77981  0.59422   0.77628\n",
       "0     Logistic Regression   0.65349    0.80806  0.57347   0.78155\n",
       "1  K Neighbors Classifier   0.63475    0.79363  0.55494   0.76604"
      ]
     },
     "execution_count": 19,
     "metadata": {},
     "output_type": "execute_result"
    }
   ],
   "source": [
    "results1.sort_values('F1-score', ascending=False)"
   ]
  },
  {
   "cell_type": "markdown",
   "id": "4d162e7f",
   "metadata": {
    "papermill": {
     "duration": 0.01758,
     "end_time": "2023-05-11T14:22:59.385591",
     "exception": false,
     "start_time": "2023-05-11T14:22:59.368011",
     "status": "completed"
    },
    "tags": []
   },
   "source": [
    "Можно сделать вывод, что оптимальной является модель дерева решений. Она обучается быстрее остальных моделей (14.6 сек.) и имеет наибольшие значения F1-score и Accuracy. Однако, результат можно значительно улучшить, используя большее количество переменных. Поэтому обучим модели заново с использованием Info, Title и Provider"
   ]
  },
  {
   "cell_type": "markdown",
   "id": "38af5751",
   "metadata": {
    "papermill": {
     "duration": 0.01851,
     "end_time": "2023-05-11T14:22:59.421790",
     "exception": false,
     "start_time": "2023-05-11T14:22:59.403280",
     "status": "completed"
    },
    "tags": []
   },
   "source": [
    "<a id=\"8\"></a>\n",
    "## <b>8 <span style='color:#4682B4'>|</span> Векторизация </b>\n",
    "* [К оглавлению](#0)"
   ]
  },
  {
   "cell_type": "markdown",
   "id": "8019c7c7",
   "metadata": {
    "papermill": {
     "duration": 0.018318,
     "end_time": "2023-05-11T14:22:59.458290",
     "exception": false,
     "start_time": "2023-05-11T14:22:59.439972",
     "status": "completed"
    },
    "tags": []
   },
   "source": [
    "Разделим данные на выборки, векторизируем и объединим входные при помощи функции sp.sparse.hstack из библиотеки SciPy. Она используется для горизонтального объединения разреженных матриц."
   ]
  },
  {
   "cell_type": "code",
   "execution_count": 20,
   "id": "70a4407f",
   "metadata": {
    "ExecuteTime": {
     "end_time": "2023-05-12T15:12:58.208764Z",
     "start_time": "2023-05-12T15:12:52.789868Z"
    },
    "papermill": {
     "duration": 8.184225,
     "end_time": "2023-05-11T14:23:07.660737",
     "exception": false,
     "start_time": "2023-05-11T14:22:59.476512",
     "status": "completed"
    },
    "tags": []
   },
   "outputs": [],
   "source": [
    "X = data[['Info_lem', 'Title_lem', 'Provider_lem']]\n",
    "y = data['Tag']\n",
    "X_train, X_test, y_train, y_test = train_test_split(X, y, test_size=0.25, random_state=5)\n",
    "\n",
    "vec_info = CountVectorizer()\n",
    "X_train_info = vec_info.fit_transform(X_train['Info_lem'])\n",
    "X_test_info = vec_info.transform(X_test['Info_lem'])\n",
    "\n",
    "vec_title = CountVectorizer()\n",
    "X_train_title = vec_title.fit_transform(X_train['Title_lem'])\n",
    "X_test_title = vec_title.transform(X_test['Title_lem'])\n",
    "\n",
    "vec_provider = CountVectorizer()\n",
    "X_train_provider = vec_provider.fit_transform(X_train['Provider_lem'])\n",
    "X_test_provider = vec_provider.transform(X_test['Provider_lem'])\n",
    "\n",
    "X_train_v = sp.sparse.hstack([X_train_info, X_train_title, X_train_provider])\n",
    "X_test_v = sp.sparse.hstack([X_test_info, X_test_title, X_test_provider])"
   ]
  },
  {
   "cell_type": "markdown",
   "id": "344e245e",
   "metadata": {
    "papermill": {
     "duration": 0.018821,
     "end_time": "2023-05-11T14:23:07.698253",
     "exception": false,
     "start_time": "2023-05-11T14:23:07.679432",
     "status": "completed"
    },
    "tags": []
   },
   "source": [
    "<a id=\"9\"></a>\n",
    "## <b>9 <span style='color:#4682B4'>|</span> Обучение моделей</b>\n",
    "* [К оглавлению](#0)"
   ]
  },
  {
   "cell_type": "code",
   "execution_count": 21,
   "id": "4e9c98c6",
   "metadata": {
    "ExecuteTime": {
     "end_time": "2023-05-12T15:12:58.212085Z",
     "start_time": "2023-05-12T15:12:58.210121Z"
    },
    "papermill": {
     "duration": 0.028005,
     "end_time": "2023-05-11T14:23:07.744502",
     "exception": false,
     "start_time": "2023-05-11T14:23:07.716497",
     "status": "completed"
    },
    "tags": []
   },
   "outputs": [],
   "source": [
    "results2 = pd.DataFrame({'Model': [],\n",
    "                        'F1-score': [],\n",
    "                        'Precision': [],\n",
    "                        'Recall': [],\n",
    "                        'Accuracy': []})"
   ]
  },
  {
   "cell_type": "markdown",
   "id": "461aa7bf",
   "metadata": {
    "papermill": {
     "duration": 0.0175,
     "end_time": "2023-05-11T14:23:07.780553",
     "exception": false,
     "start_time": "2023-05-11T14:23:07.763053",
     "status": "completed"
    },
    "tags": []
   },
   "source": [
    "<a id=\"9.1\"></a>\n",
    "### <b>9.1 <span style='color:#4682B4'>|</span> Logistic Regression</b>"
   ]
  },
  {
   "cell_type": "code",
   "execution_count": 22,
   "id": "fa6bccaf",
   "metadata": {
    "ExecuteTime": {
     "end_time": "2023-05-12T15:13:30.909716Z",
     "start_time": "2023-05-12T15:12:58.214534Z"
    },
    "papermill": {
     "duration": 59.823309,
     "end_time": "2023-05-11T14:24:07.621786",
     "exception": false,
     "start_time": "2023-05-11T14:23:07.798477",
     "status": "completed"
    },
    "tags": []
   },
   "outputs": [
    {
     "name": "stdout",
     "output_type": "stream",
     "text": [
      "CPU times: user 2min 56s, sys: 23.4 s, total: 3min 19s\n",
      "Wall time: 30.3 s\n"
     ]
    }
   ],
   "source": [
    "%%time\n",
    "model = LogisticRegression()\n",
    "model.fit(X_train_v, y_train)\n",
    "y_pred = model.predict(X_test_v)\n",
    "\n",
    "f1 = f1_score(y_test, y_pred, average='macro')\n",
    "prec= precision_score(y_test, y_pred, average= 'macro')\n",
    "rec = recall_score(y_test, y_pred,average='macro')\n",
    "acc = accuracy_score(y_test, y_pred)\n",
    "\n",
    "results2.loc[len(results2)] = ['Logistic Regression', round(f1, 5), round(prec, 5), round(rec, 5), round(acc, 5)]"
   ]
  },
  {
   "cell_type": "markdown",
   "id": "c24e83e4",
   "metadata": {
    "papermill": {
     "duration": 0.017486,
     "end_time": "2023-05-11T14:24:07.657991",
     "exception": false,
     "start_time": "2023-05-11T14:24:07.640505",
     "status": "completed"
    },
    "tags": []
   },
   "source": [
    "<a id=\"9.2\"></a>\n",
    "### <b>9.2 <span style='color:#4682B4'>|</span> K Neighbors Classifier</b>"
   ]
  },
  {
   "cell_type": "code",
   "execution_count": 23,
   "id": "e9742588",
   "metadata": {
    "ExecuteTime": {
     "end_time": "2023-05-12T15:15:20.170201Z",
     "start_time": "2023-05-12T15:13:30.912171Z"
    },
    "papermill": {
     "duration": 145.762462,
     "end_time": "2023-05-11T14:26:33.438282",
     "exception": false,
     "start_time": "2023-05-11T14:24:07.675820",
     "status": "completed"
    },
    "tags": []
   },
   "outputs": [
    {
     "name": "stdout",
     "output_type": "stream",
     "text": [
      "CPU times: user 1min 14s, sys: 28.2 s, total: 1min 43s\n",
      "Wall time: 1min 46s\n"
     ]
    }
   ],
   "source": [
    "%%time\n",
    "model = KNeighborsClassifier()\n",
    "model.fit(X_train_v, y_train)\n",
    "y_pred = model.predict(X_test_v)\n",
    "\n",
    "f1 = f1_score(y_test, y_pred, average='macro')\n",
    "prec= precision_score(y_test, y_pred, average= 'macro')\n",
    "rec = recall_score(y_test, y_pred, average='macro')\n",
    "acc = accuracy_score(y_test, y_pred)\n",
    "\n",
    "results2.loc[len(results2)] = ['K Neighbors Classifier',  round(f1, 5), round(prec, 5), round(rec, 5), round(acc, 5)]"
   ]
  },
  {
   "cell_type": "markdown",
   "id": "ba7b28c7",
   "metadata": {
    "papermill": {
     "duration": 0.017456,
     "end_time": "2023-05-11T14:26:33.473507",
     "exception": false,
     "start_time": "2023-05-11T14:26:33.456051",
     "status": "completed"
    },
    "tags": []
   },
   "source": [
    "<a id=\"9.3\"></a>\n",
    "### <b>9.3 <span style='color:#4682B4'>|</span> Decision Tree</b>"
   ]
  },
  {
   "cell_type": "code",
   "execution_count": 24,
   "id": "6f77013d",
   "metadata": {
    "ExecuteTime": {
     "end_time": "2023-05-12T15:15:40.654070Z",
     "start_time": "2023-05-12T15:15:20.172466Z"
    },
    "papermill": {
     "duration": 55.178123,
     "end_time": "2023-05-11T14:27:28.669554",
     "exception": false,
     "start_time": "2023-05-11T14:26:33.491431",
     "status": "completed"
    },
    "tags": []
   },
   "outputs": [
    {
     "name": "stdout",
     "output_type": "stream",
     "text": [
      "CPU times: user 20.1 s, sys: 87.5 ms, total: 20.2 s\n",
      "Wall time: 20.2 s\n"
     ]
    }
   ],
   "source": [
    "%%time\n",
    "model = DecisionTreeClassifier()\n",
    "model.fit(X_train_v, y_train)\n",
    "y_pred = model.predict(X_test_v)\n",
    "\n",
    "f1 = f1_score(y_test, y_pred, average='macro')\n",
    "prec= precision_score(y_test, y_pred, average= 'macro')\n",
    "rec = recall_score(y_test, y_pred, average='macro')\n",
    "acc = accuracy_score(y_test, y_pred)\n",
    "\n",
    "results2.loc[len(results2)] = ['Random Forest', round(f1, 5), round(prec, 5), round(rec, 5), round(acc, 5)]"
   ]
  },
  {
   "cell_type": "markdown",
   "id": "a760da1a",
   "metadata": {
    "papermill": {
     "duration": 0.017903,
     "end_time": "2023-05-11T14:27:28.705387",
     "exception": false,
     "start_time": "2023-05-11T14:27:28.687484",
     "status": "completed"
    },
    "tags": []
   },
   "source": [
    "<a id=\"9.4\"></a>\n",
    "### <b>9.4 <span style='color:#4682B4'>|</span> Ridge Classifier</b>"
   ]
  },
  {
   "cell_type": "code",
   "execution_count": 25,
   "id": "97ffed35",
   "metadata": {
    "ExecuteTime": {
     "end_time": "2023-05-12T15:20:29.398398Z",
     "start_time": "2023-05-12T15:15:40.656055Z"
    },
    "papermill": {
     "duration": 704.31093,
     "end_time": "2023-05-11T14:39:13.034202",
     "exception": false,
     "start_time": "2023-05-11T14:27:28.723272",
     "status": "completed"
    },
    "tags": []
   },
   "outputs": [
    {
     "name": "stdout",
     "output_type": "stream",
     "text": [
      "CPU times: user 30min 37s, sys: 4min 8s, total: 34min 46s\n",
      "Wall time: 4min 31s\n"
     ]
    }
   ],
   "source": [
    "%%time\n",
    "model = RidgeClassifier()\n",
    "model.fit(X_train_v, y_train)\n",
    "y_pred = model.predict(X_test_v)\n",
    "\n",
    "f1 = f1_score(y_test, y_pred, average='macro')\n",
    "prec= precision_score(y_test, y_pred, average= 'macro')\n",
    "rec = recall_score(y_test, y_pred, average='macro')\n",
    "acc = accuracy_score(y_test, y_pred)\n",
    "\n",
    "results2.loc[len(results2)] = ['Ridge Classifier', round(f1, 5), round(prec, 5), round(rec, 5), round(acc, 5)]"
   ]
  },
  {
   "cell_type": "markdown",
   "id": "8c078103",
   "metadata": {
    "papermill": {
     "duration": 0.018399,
     "end_time": "2023-05-11T14:39:13.071117",
     "exception": false,
     "start_time": "2023-05-11T14:39:13.052718",
     "status": "completed"
    },
    "tags": []
   },
   "source": [
    "<a id=\"9.5\"></a>\n",
    "### <b>9.5 <span style='color:#4682B4'>|</span> Результаты</b>"
   ]
  },
  {
   "cell_type": "markdown",
   "id": "0583122e",
   "metadata": {},
   "source": [
    "Выведем метрики обученных моделей"
   ]
  },
  {
   "cell_type": "code",
   "execution_count": 26,
   "id": "7bbb151c",
   "metadata": {
    "ExecuteTime": {
     "end_time": "2023-05-12T15:20:29.406495Z",
     "start_time": "2023-05-12T15:20:29.404060Z"
    },
    "papermill": {
     "duration": 0.040228,
     "end_time": "2023-05-11T14:39:13.130552",
     "exception": false,
     "start_time": "2023-05-11T14:39:13.090324",
     "status": "completed"
    },
    "tags": []
   },
   "outputs": [
    {
     "data": {
      "text/html": [
       "<div>\n",
       "<style scoped>\n",
       "    .dataframe tbody tr th:only-of-type {\n",
       "        vertical-align: middle;\n",
       "    }\n",
       "\n",
       "    .dataframe tbody tr th {\n",
       "        vertical-align: top;\n",
       "    }\n",
       "\n",
       "    .dataframe thead th {\n",
       "        text-align: right;\n",
       "    }\n",
       "</style>\n",
       "<table border=\"1\" class=\"dataframe\">\n",
       "  <thead>\n",
       "    <tr style=\"text-align: right;\">\n",
       "      <th></th>\n",
       "      <th>Model</th>\n",
       "      <th>F1-score</th>\n",
       "      <th>Precision</th>\n",
       "      <th>Recall</th>\n",
       "      <th>Accuracy</th>\n",
       "    </tr>\n",
       "  </thead>\n",
       "  <tbody>\n",
       "    <tr>\n",
       "      <th>0</th>\n",
       "      <td>Logistic Regression</td>\n",
       "      <td>0.81859</td>\n",
       "      <td>0.84869</td>\n",
       "      <td>0.79682</td>\n",
       "      <td>0.95009</td>\n",
       "    </tr>\n",
       "    <tr>\n",
       "      <th>3</th>\n",
       "      <td>Ridge Classifier</td>\n",
       "      <td>0.81138</td>\n",
       "      <td>0.84512</td>\n",
       "      <td>0.79696</td>\n",
       "      <td>0.94800</td>\n",
       "    </tr>\n",
       "    <tr>\n",
       "      <th>2</th>\n",
       "      <td>Random Forest</td>\n",
       "      <td>0.80381</td>\n",
       "      <td>0.82273</td>\n",
       "      <td>0.79185</td>\n",
       "      <td>0.94879</td>\n",
       "    </tr>\n",
       "    <tr>\n",
       "      <th>1</th>\n",
       "      <td>K Neighbors Classifier</td>\n",
       "      <td>0.74827</td>\n",
       "      <td>0.83388</td>\n",
       "      <td>0.72449</td>\n",
       "      <td>0.93184</td>\n",
       "    </tr>\n",
       "  </tbody>\n",
       "</table>\n",
       "</div>"
      ],
      "text/plain": [
       "                    Model  F1-score  Precision   Recall  Accuracy\n",
       "0     Logistic Regression   0.81859    0.84869  0.79682   0.95009\n",
       "3        Ridge Classifier   0.81138    0.84512  0.79696   0.94800\n",
       "2           Random Forest   0.80381    0.82273  0.79185   0.94879\n",
       "1  K Neighbors Classifier   0.74827    0.83388  0.72449   0.93184"
      ]
     },
     "execution_count": 26,
     "metadata": {},
     "output_type": "execute_result"
    }
   ],
   "source": [
    "results2.sort_values('F1-score', ascending=False)"
   ]
  },
  {
   "cell_type": "markdown",
   "id": "658e554e",
   "metadata": {
    "papermill": {
     "duration": 0.018121,
     "end_time": "2023-05-11T14:39:13.167330",
     "exception": false,
     "start_time": "2023-05-11T14:39:13.149209",
     "status": "completed"
    },
    "tags": []
   },
   "source": [
    "Графически изобразим значения метрика F1-score моделей, обученных на разных входных данных"
   ]
  },
  {
   "cell_type": "code",
   "execution_count": 27,
   "id": "810e8a51",
   "metadata": {
    "ExecuteTime": {
     "end_time": "2023-05-12T15:20:29.578043Z",
     "start_time": "2023-05-12T15:20:29.413970Z"
    },
    "papermill": {
     "duration": 0.2461,
     "end_time": "2023-05-11T14:39:13.431767",
     "exception": false,
     "start_time": "2023-05-11T14:39:13.185667",
     "status": "completed"
    },
    "tags": []
   },
   "outputs": [
    {
     "data": {
      "image/png": "[encoded data removed]",
      "text/plain": [
       "<Figure size 640x480 with 1 Axes>"
      ]
     },
     "metadata": {},
     "output_type": "display_data"
    }
   ],
   "source": [
    "x = np.arange(4)\n",
    "\n",
    "fig, ax = plt.subplots()\n",
    "\n",
    "rects1 = ax.bar(x - 0.3/2, results1['F1-score'], 0.3, label='Info')\n",
    "rects2 = ax.bar(x + 0.3/2, results2['F1-score'], 0.3, label='Title + Info + Provider')\n",
    "\n",
    "for i, rect in enumerate(rects1):\n",
    "    height = rect.get_height()\n",
    "    ax.text(rect.get_x() + rect.get_width() / 2, height + 0.01, results1['F1-score'][i], ha='center', va='bottom')\n",
    "\n",
    "for i, rect in enumerate(rects2):\n",
    "    height = rect.get_height()\n",
    "    ax.text(rect.get_x() + rect.get_width() / 2, height + 0.01, results2['F1-score'][i], ha='center', va='bottom')\n",
    "\n",
    "ax.set_title('F1-score')\n",
    "ax.set_xticks(x)\n",
    "ax.set_xticklabels(list(results1['Model']), rotation=45)\n",
    "ax.legend()\n",
    "plt.show()"
   ]
  },
  {
   "cell_type": "markdown",
   "id": "4ed2cae1",
   "metadata": {
    "papermill": {
     "duration": 0.018951,
     "end_time": "2023-05-11T14:39:13.470860",
     "exception": false,
     "start_time": "2023-05-11T14:39:13.451909",
     "status": "completed"
    },
    "tags": []
   },
   "source": [
    "На графике видно, что использование всех трёх признаков улучшило результат и теперь наилучшей моделью является логистическая регрессия, обучаемая за 32 секунды, что является приемлемым результатом."
   ]
  },
  {
   "cell_type": "markdown",
   "id": "9b893d22",
   "metadata": {
    "papermill": {
     "duration": 0.01928,
     "end_time": "2023-05-11T14:39:13.509522",
     "exception": false,
     "start_time": "2023-05-11T14:39:13.490242",
     "status": "completed"
    },
    "tags": []
   },
   "source": [
    "<a id=\"10\"></a>\n",
    "## <b>10 <span style='color:#4682B4'>|</span> Подбор гиперпараметров</b>\n",
    "* [К оглавлению](#0)"
   ]
  },
  {
   "cell_type": "markdown",
   "id": "e78ba21e",
   "metadata": {
    "papermill": {
     "duration": 0.018979,
     "end_time": "2023-05-11T14:39:13.547823",
     "exception": false,
     "start_time": "2023-05-11T14:39:13.528844",
     "status": "completed"
    },
    "tags": []
   },
   "source": [
    "F1-score модели равен 0.81859, а Accuracy равна 0.95009, однако эти показатели можно улучшить, подобрав оптимальные значения гиперпараметров при помощи Grid Search\n",
    "\n",
    "Принцип работы GridSearchCV заключается в переборе заданного набора гиперпараметров и оценке производительности модели с каждой комбинацией параметров на кросс-валидации. После этого выбирается комбинация параметров, дающая наилучший результат, и возвращается модель, обученная с этими параметрами."
   ]
  },
  {
   "cell_type": "code",
   "execution_count": 28,
   "id": "2a7ddc67",
   "metadata": {
    "pycharm": {
     "is_executing": true
    },
    "scrolled": true,
    "tags": []
   },
   "outputs": [
    {
     "name": "stdout",
     "output_type": "stream",
     "text": [
      "Лучшие гиперпараметры {'C': 100, 'penalty': 'l1', 'solver': 'liblinear'} \n",
      "\n",
      "F1-score 0.83285\n",
      "Accuracy 0.95205\n",
      "\n",
      "CPU times: user 2h 54min 59s, sys: 21min 36s, total: 3h 16min 35s\n",
      "Wall time: 35min 20s\n"
     ]
    }
   ],
   "source": [
    "%%time\n",
    "# сетка гиперпараметров\n",
    "param_grid = {'penalty': ['l1', 'l2'],\n",
    "              'C': [1, 10, 100],\n",
    "              'solver': ['liblinear', 'lbfgs']}\n",
    "lr = LogisticRegression()\n",
    "\n",
    "# инициализируем Grid Search\n",
    "r_search = GridSearchCV(lr, param_grid, cv=4, scoring='f1_macro')\n",
    "\n",
    "r_search.fit(X_train_v, y_train)\n",
    "\n",
    "# выводим лучшие гиперпараметры\n",
    "print('Лучшие гиперпараметры', r_search.best_params_, '\\n')\n",
    "\n",
    "# обучаем модель на этих гиперпараметрах\n",
    "best_lr = LogisticRegression(**r_search.best_params_)\n",
    "best_lr.fit(X_train_v, y_train)\n",
    "\n",
    "y_pred = best_lr.predict(X_test_v)\n",
    "\n",
    "# вычисляем и выводим значения метрик\n",
    "f1 = f1_score(y_test, y_pred, average='macro')\n",
    "prec = precision_score(y_test, y_pred, average= 'macro')\n",
    "rec = recall_score(y_test, y_pred, average='macro')\n",
    "acc = accuracy_score(y_test, y_pred)\n",
    "\n",
    "print(f'F1-score {round(f1, 5)}\\nAccuracy {round(acc, 5)}\\n')"
   ]
  },
  {
   "cell_type": "markdown",
   "id": "7a98efae-4ecf-47fa-8fcf-c9fe6af5cd68",
   "metadata": {},
   "source": [
    "<a id=\"11\"></a>\n",
    "## <b>11 <span style='color:#4682B4'>|</span> Результаты</b>\n",
    "* [К оглавлению](#0)"
   ]
  },
  {
   "cell_type": "markdown",
   "id": "2b820578",
   "metadata": {},
   "source": [
    "Подбор гиперпараметров позволил добиться улучшения модели.\n",
    "\n",
    "F1 мера увеличилась с 0.81859 до 0.83285\n",
    "\n",
    "Accuracy увеличилась с 0.95009 до 0.95205"
   ]
  },
  {
   "cell_type": "markdown",
   "id": "170664f6-c988-4441-a498-a711ad91cd83",
   "metadata": {},
   "source": [
    "Выведем подробный отчет о производительности модели для каждого класса отдельно"
   ]
  },
  {
   "cell_type": "code",
   "execution_count": 29,
   "id": "69363718-3336-462d-bfe8-616827436990",
   "metadata": {},
   "outputs": [
    {
     "name": "stdout",
     "output_type": "stream",
     "text": [
      "                                         precision    recall  f1-score   support\n",
      "\n",
      "                             Автотовары       0.97      0.98      0.97      2641\n",
      "                   Ит. интернет. связь.       1.00      0.67      0.80         3\n",
      "                    Коммунальные услуги       0.64      0.54      0.58        13\n",
      "  Компьютеры, бытовая и офисная техника       0.90      0.85      0.87       142\n",
      "                     Мебель и фурнитура       1.00      0.96      0.98        84\n",
      "                                Металлы       0.75      0.73      0.74       389\n",
      "             Оборудование и инструменты       0.97      0.98      0.97     16371\n",
      "                 Одежда, обувь, игрушки       0.78      0.76      0.77      1103\n",
      "                  Охрана и безопасность       0.83      1.00      0.91         5\n",
      "                   Полиграфия и реклама       0.91      0.80      0.85        98\n",
      "  Потребительские товары и спецмагазины       0.00      0.00      0.00         3\n",
      "              Продукты питания, напитки       0.76      0.70      0.73       345\n",
      "                   Спорт. туризм. отдых       0.83      0.74      0.78       421\n",
      "                 Строительные материалы       0.95      0.95      0.95     11331\n",
      "                          Строительство       0.98      0.98      0.98      2518\n",
      "                      Текстиль для дома       1.00      1.00      1.00         2\n",
      "                    Транспортные услуги       0.93      0.93      0.93       215\n",
      "                        Химия и топливо       0.86      1.00      0.92        12\n",
      "        Хозтовары, упаковка, канцелярия       0.92      0.96      0.94       139\n",
      "           Электроника и электротехника       0.93      0.88      0.91       936\n",
      "Юридические, финансовые и бизнес-услуги       0.92      0.87      0.89        38\n",
      "\n",
      "                               accuracy                           0.95     36809\n",
      "                              macro avg       0.85      0.82      0.83     36809\n",
      "                           weighted avg       0.95      0.95      0.95     36809\n",
      "\n"
     ]
    }
   ],
   "source": [
    "print(classification_report(y_test, y_pred))"
   ]
  },
  {
   "cell_type": "markdown",
   "id": "1dc8c540-9348-4b38-9c91-ac1c798f2c8f",
   "metadata": {},
   "source": [
    "Убедимся в работоспособности модели классификации, взяв несколько случайных товаров из тестовой выборки"
   ]
  },
  {
   "cell_type": "code",
   "execution_count": 32,
   "id": "e7d2249a-ab27-4e99-80cd-1c41c01dde33",
   "metadata": {
    "scrolled": true
   },
   "outputs": [
    {
     "name": "stdout",
     "output_type": "stream",
     "text": [
      "Товар 1:\n",
      "Title: Энергосберегающая (люминесцентная) лампа Navigator Трубка G5 6Вт (W) 6500К 280lm 230V 94117 NTL-T5 14175\n",
      "Предсказанная категория: Электроника и электротехника\n",
      "Реальная категория: Электроника и электротехника \n",
      "\n",
      "Товар 2:\n",
      "Title:         Сверло по металлу EKTO шлифованное самоцентрирующееся HSS-G 5% Co DIN 338 8,0 мм (10 шт.)\n",
      "Предсказанная категория: Оборудование и инструменты\n",
      "Реальная категория: Оборудование и инструменты \n",
      "\n",
      "Товар 3:\n",
      "Title: Вентилятор Ebmpapst A3G800-AA02-04 осевой\n",
      "Предсказанная категория: Оборудование и инструменты\n",
      "Реальная категория: Оборудование и инструменты \n",
      "\n",
      "Товар 4:\n",
      "Title: Конверт для денег \"С Днем Свадьбы\" голуби, кольца\n",
      "Предсказанная категория: Полиграфия и реклама\n",
      "Реальная категория: Полиграфия и реклама \n",
      "\n",
      "Товар 5:\n",
      "Title: Радиатор Buderus K 33/500/600\n",
      "Предсказанная категория: Строительство\n",
      "Реальная категория: Строительство \n",
      "\n"
     ]
    }
   ],
   "source": [
    "random_lems = X_test.sample(5, random_state=43)\n",
    "random_goods = data.iloc[random_lems.index]\n",
    "random_tag = y_test.sample(5, random_state=43)\n",
    "\n",
    "random_sample_info = vec_info.transform(random_lems['Info_lem'])\n",
    "random_sample_title = vec_title.transform(random_lems['Title_lem'])\n",
    "random_sample_provider = vec_provider.transform(random_lems['Provider_lem'])\n",
    "\n",
    "random_sample_v = sp.sparse.hstack([random_sample_info, random_sample_title, random_sample_provider])\n",
    "\n",
    "predicted_category = model.predict(random_sample_v)\n",
    "predicted_category\n",
    "for i in range(random_lems.shape[0]):\n",
    "    print(f'Товар {i+1}:')\n",
    "    print('Title:', random_goods.iloc[i]['Title'])\n",
    "    print('Предсказанная категория:', predicted_category[i])\n",
    "    print('Реальная категория:', random_goods.iloc[i]['Tag'], '\\n')"
   ]
  },
  {
   "cell_type": "markdown",
   "id": "aa6746ed",
   "metadata": {},
   "source": [
    "<a id=\"12\"></a>\n",
    "## <b>12 <span style='color:#4682B4'>|</span> Заключение</b>\n",
    "* [К оглавлению](#0)"
   ]
  },
  {
   "cell_type": "markdown",
   "id": "844493a5",
   "metadata": {},
   "source": [
    "Цель работы заключалась в разработке эффективной модели, способной автоматически определять категорию товара на основе его характеристик.\n",
    "\n",
    "В процессе исследования мы рассмотрели различные алгоритмы машинного обучения, включая логистическую регресссию (Logistic Regression), метод k ближайших соседей (K Neighbours Classifier), случайный лес (Random Forest Classifier) и гребневый классификатор (Ridge Classifier).\n",
    "\n",
    "Мы провели предварительную обработку данных, включающую токенизацию, лемматизацию и векторизацию признаков, а так же разделение на обучающую и тестовую выборки.\n",
    "\n",
    "Для оценки производительности моделей мы использовали несколько ключевых метрик, включая F1-меру, точность (precision), полноту (recall) и точность классификации (accuracy).\n",
    "\n",
    "Также было проведено улучшение модели путем подбора оптимальных гиперпараметров.\n",
    "\n",
    "В заключение, использование методов машинного обучения для классификации товаров представляет собой перспективное направление исследований. Это позволяет автоматизировать процесс классификации, улучшить точность и эффективность работы, а также снизить затраты и улучшить пользовательский опыт. Дальнейшее развитие и применение этих методов открывает новые возможности для бизнеса и общества в целом."
   ]
  }
 ],
 "metadata": {
  "kernelspec": {
   "display_name": "Python 3 (ipykernel)",
   "language": "python",
   "name": "python3"
  },
  "language_info": {
   "codemirror_mode": {
    "name": "ipython",
    "version": 3
   },
   "file_extension": ".py",
   "mimetype": "text/x-python",
   "name": "python",
   "nbconvert_exporter": "python",
   "pygments_lexer": "ipython3",
   "version": "3.9.12"
  },
  "papermill": {
   "default_parameters": {},
   "duration": 20785.556709,
   "end_time": "2023-05-11T19:46:46.281198",
   "environment_variables": {},
   "exception": null,
   "input_path": "__notebook__.ipynb",
   "output_path": "__notebook__.ipynb",
   "parameters": {},
   "start_time": "2023-05-11T14:00:20.724489",
   "version": "2.4.0"
  },
  "toc-autonumbering": false,
  "toc-showtags": false,
  "widgets": {
   "application/vnd.jupyter.widget-state+json": {
    "state": {
     "007dc1eed5a0476587da1d2b705899cb": {
      "model_module": "@jupyter-widgets/base",
      "model_module_version": "1.2.0",
      "model_name": "LayoutModel",
      "state": {
       "_model_module": "@jupyter-widgets/base",
       "_model_module_version": "1.2.0",
       "_model_name": "LayoutModel",
       "_view_count": null,
       "_view_module": "@jupyter-widgets/base",
       "_view_module_version": "1.2.0",
       "_view_name": "LayoutView",
       "align_content": null,
       "align_items": null,
       "align_self": null,
       "border": null,
       "bottom": null,
       "display": null,
       "flex": null,
       "flex_flow": null,
       "grid_area": null,
       "grid_auto_columns": null,
       "grid_auto_flow": null,
       "grid_auto_rows": null,
       "grid_column": null,
       "grid_gap": null,
       "grid_row": null,
       "grid_template_areas": null,
       "grid_template_columns": null,
       "grid_template_rows": null,
       "height": null,
       "justify_content": null,
       "justify_items": null,
       "left": null,
       "margin": null,
       "max_height": null,
       "max_width": null,
       "min_height": null,
       "min_width": null,
       "object_fit": null,
       "object_position": null,
       "order": null,
       "overflow": null,
       "overflow_x": null,
       "overflow_y": null,
       "padding": null,
       "right": null,
       "top": null,
       "visibility": null,
       "width": null
      }
     },
     "0161390f4e2045a68b58aa28af37a09b": {
      "model_module": "@jupyter-widgets/controls",
      "model_module_version": "1.5.0",
      "model_name": "HTMLModel",
      "state": {
       "_dom_classes": [],
       "_model_module": "@jupyter-widgets/controls",
       "_model_module_version": "1.5.0",
       "_model_name": "HTMLModel",
       "_view_count": null,
       "_view_module": "@jupyter-widgets/controls",
       "_view_module_version": "1.5.0",
       "_view_name": "HTMLView",
       "description": "",
       "description_tooltip": null,
       "layout": "IPY_MODEL_837970d9bafb4e2ea0bf53229430e3a8",
       "placeholder": "​",
       "style": "IPY_MODEL_f43586bf7d6a433db238a2788f1fbc88",
       "value": " 147235/147235 [08:52&lt;00:00, 1089.52it/s]"
      }
     },
     "04a719f9127b4d29959c658381570ba3": {
      "model_module": "@jupyter-widgets/controls",
      "model_module_version": "1.5.0",
      "model_name": "ProgressStyleModel",
      "state": {
       "_model_module": "@jupyter-widgets/controls",
       "_model_module_version": "1.5.0",
       "_model_name": "ProgressStyleModel",
       "_view_count": null,
       "_view_module": "@jupyter-widgets/base",
       "_view_module_version": "1.2.0",
       "_view_name": "StyleView",
       "bar_color": null,
       "description_width": ""
      }
     },
     "0cc47dd51953452f8ce21d0ec3ec091d": {
      "model_module": "@jupyter-widgets/controls",
      "model_module_version": "1.5.0",
      "model_name": "DescriptionStyleModel",
      "state": {
       "_model_module": "@jupyter-widgets/controls",
       "_model_module_version": "1.5.0",
       "_model_name": "DescriptionStyleModel",
       "_view_count": null,
       "_view_module": "@jupyter-widgets/base",
       "_view_module_version": "1.2.0",
       "_view_name": "StyleView",
       "description_width": ""
      }
     },
     "2050041796af483b90150f8d0eafd448": {
      "model_module": "@jupyter-widgets/controls",
      "model_module_version": "1.5.0",
      "model_name": "FloatProgressModel",
      "state": {
       "_dom_classes": [],
       "_model_module": "@jupyter-widgets/controls",
       "_model_module_version": "1.5.0",
       "_model_name": "FloatProgressModel",
       "_view_count": null,
       "_view_module": "@jupyter-widgets/controls",
       "_view_module_version": "1.5.0",
       "_view_name": "ProgressView",
       "bar_style": "success",
       "description": "",
       "description_tooltip": null,
       "layout": "IPY_MODEL_007dc1eed5a0476587da1d2b705899cb",
       "max": 147235,
       "min": 0,
       "orientation": "horizontal",
       "style": "IPY_MODEL_04a719f9127b4d29959c658381570ba3",
       "value": 147235
      }
     },
     "21fa8f63cd9a43e8aabdfe5ca1bb9f06": {
      "model_module": "@jupyter-widgets/base",
      "model_module_version": "1.2.0",
      "model_name": "LayoutModel",
      "state": {
       "_model_module": "@jupyter-widgets/base",
       "_model_module_version": "1.2.0",
       "_model_name": "LayoutModel",
       "_view_count": null,
       "_view_module": "@jupyter-widgets/base",
       "_view_module_version": "1.2.0",
       "_view_name": "LayoutView",
       "align_content": null,
       "align_items": null,
       "align_self": null,
       "border": null,
       "bottom": null,
       "display": null,
       "flex": null,
       "flex_flow": null,
       "grid_area": null,
       "grid_auto_columns": null,
       "grid_auto_flow": null,
       "grid_auto_rows": null,
       "grid_column": null,
       "grid_gap": null,
       "grid_row": null,
       "grid_template_areas": null,
       "grid_template_columns": null,
       "grid_template_rows": null,
       "height": null,
       "justify_content": null,
       "justify_items": null,
       "left": null,
       "margin": null,
       "max_height": null,
       "max_width": null,
       "min_height": null,
       "min_width": null,
       "object_fit": null,
       "object_position": null,
       "order": null,
       "overflow": null,
       "overflow_x": null,
       "overflow_y": null,
       "padding": null,
       "right": null,
       "top": null,
       "visibility": null,
       "width": null
      }
     },
     "26e52a49e7ae4f42ab218f7c3d991f68": {
      "model_module": "@jupyter-widgets/controls",
      "model_module_version": "1.5.0",
      "model_name": "DescriptionStyleModel",
      "state": {
       "_model_module": "@jupyter-widgets/controls",
       "_model_module_version": "1.5.0",
       "_model_name": "DescriptionStyleModel",
       "_view_count": null,
       "_view_module": "@jupyter-widgets/base",
       "_view_module_version": "1.2.0",
       "_view_name": "StyleView",
       "description_width": ""
      }
     },
     "2b27a5189df648948865ce71173acbe8": {
      "model_module": "@jupyter-widgets/base",
      "model_module_version": "1.2.0",
      "model_name": "LayoutModel",
      "state": {
       "_model_module": "@jupyter-widgets/base",
       "_model_module_version": "1.2.0",
       "_model_name": "LayoutModel",
       "_view_count": null,
       "_view_module": "@jupyter-widgets/base",
       "_view_module_version": "1.2.0",
       "_view_name": "LayoutView",
       "align_content": null,
       "align_items": null,
       "align_self": null,
       "border": null,
       "bottom": null,
       "display": null,
       "flex": null,
       "flex_flow": null,
       "grid_area": null,
       "grid_auto_columns": null,
       "grid_auto_flow": null,
       "grid_auto_rows": null,
       "grid_column": null,
       "grid_gap": null,
       "grid_row": null,
       "grid_template_areas": null,
       "grid_template_columns": null,
       "grid_template_rows": null,
       "height": null,
       "justify_content": null,
       "justify_items": null,
       "left": null,
       "margin": null,
       "max_height": null,
       "max_width": null,
       "min_height": null,
       "min_width": null,
       "object_fit": null,
       "object_position": null,
       "order": null,
       "overflow": null,
       "overflow_x": null,
       "overflow_y": null,
       "padding": null,
       "right": null,
       "top": null,
       "visibility": null,
       "width": null
      }
     },
     "30c45e3049f24ff2a8247ec2e8176e1e": {
      "model_module": "@jupyter-widgets/controls",
      "model_module_version": "1.5.0",
      "model_name": "FloatProgressModel",
      "state": {
       "_dom_classes": [],
       "_model_module": "@jupyter-widgets/controls",
       "_model_module_version": "1.5.0",
       "_model_name": "FloatProgressModel",
       "_view_count": null,
       "_view_module": "@jupyter-widgets/controls",
       "_view_module_version": "1.5.0",
       "_view_name": "ProgressView",
       "bar_style": "success",
       "description": "",
       "description_tooltip": null,
       "layout": "IPY_MODEL_caedf4e5ba7c490c9c193efc5efcb071",
       "max": 147235,
       "min": 0,
       "orientation": "horizontal",
       "style": "IPY_MODEL_b5f7f72ba1ba46cfbc7040acb04d8ccf",
       "value": 147235
      }
     },
     "338a528b47c946c5a7a2e6649655631d": {
      "model_module": "@jupyter-widgets/base",
      "model_module_version": "1.2.0",
      "model_name": "LayoutModel",
      "state": {
       "_model_module": "@jupyter-widgets/base",
       "_model_module_version": "1.2.0",
       "_model_name": "LayoutModel",
       "_view_count": null,
       "_view_module": "@jupyter-widgets/base",
       "_view_module_version": "1.2.0",
       "_view_name": "LayoutView",
       "align_content": null,
       "align_items": null,
       "align_self": null,
       "border": null,
       "bottom": null,
       "display": null,
       "flex": null,
       "flex_flow": null,
       "grid_area": null,
       "grid_auto_columns": null,
       "grid_auto_flow": null,
       "grid_auto_rows": null,
       "grid_column": null,
       "grid_gap": null,
       "grid_row": null,
       "grid_template_areas": null,
       "grid_template_columns": null,
       "grid_template_rows": null,
       "height": null,
       "justify_content": null,
       "justify_items": null,
       "left": null,
       "margin": null,
       "max_height": null,
       "max_width": null,
       "min_height": null,
       "min_width": null,
       "object_fit": null,
       "object_position": null,
       "order": null,
       "overflow": null,
       "overflow_x": null,
       "overflow_y": null,
       "padding": null,
       "right": null,
       "top": null,
       "visibility": null,
       "width": null
      }
     },
     "3ba9f9bf67c341c5a521c8e463b895bb": {
      "model_module": "@jupyter-widgets/base",
      "model_module_version": "1.2.0",
      "model_name": "LayoutModel",
      "state": {
       "_model_module": "@jupyter-widgets/base",
       "_model_module_version": "1.2.0",
       "_model_name": "LayoutModel",
       "_view_count": null,
       "_view_module": "@jupyter-widgets/base",
       "_view_module_version": "1.2.0",
       "_view_name": "LayoutView",
       "align_content": null,
       "align_items": null,
       "align_self": null,
       "border": null,
       "bottom": null,
       "display": null,
       "flex": null,
       "flex_flow": null,
       "grid_area": null,
       "grid_auto_columns": null,
       "grid_auto_flow": null,
       "grid_auto_rows": null,
       "grid_column": null,
       "grid_gap": null,
       "grid_row": null,
       "grid_template_areas": null,
       "grid_template_columns": null,
       "grid_template_rows": null,
       "height": null,
       "justify_content": null,
       "justify_items": null,
       "left": null,
       "margin": null,
       "max_height": null,
       "max_width": null,
       "min_height": null,
       "min_width": null,
       "object_fit": null,
       "object_position": null,
       "order": null,
       "overflow": null,
       "overflow_x": null,
       "overflow_y": null,
       "padding": null,
       "right": null,
       "top": null,
       "visibility": null,
       "width": null
      }
     },
     "3c6820b436ca4bcea2b6116b11cca895": {
      "model_module": "@jupyter-widgets/base",
      "model_module_version": "1.2.0",
      "model_name": "LayoutModel",
      "state": {
       "_model_module": "@jupyter-widgets/base",
       "_model_module_version": "1.2.0",
       "_model_name": "LayoutModel",
       "_view_count": null,
       "_view_module": "@jupyter-widgets/base",
       "_view_module_version": "1.2.0",
       "_view_name": "LayoutView",
       "align_content": null,
       "align_items": null,
       "align_self": null,
       "border": null,
       "bottom": null,
       "display": null,
       "flex": null,
       "flex_flow": null,
       "grid_area": null,
       "grid_auto_columns": null,
       "grid_auto_flow": null,
       "grid_auto_rows": null,
       "grid_column": null,
       "grid_gap": null,
       "grid_row": null,
       "grid_template_areas": null,
       "grid_template_columns": null,
       "grid_template_rows": null,
       "height": null,
       "justify_content": null,
       "justify_items": null,
       "left": null,
       "margin": null,
       "max_height": null,
       "max_width": null,
       "min_height": null,
       "min_width": null,
       "object_fit": null,
       "object_position": null,
       "order": null,
       "overflow": null,
       "overflow_x": null,
       "overflow_y": null,
       "padding": null,
       "right": null,
       "top": null,
       "visibility": null,
       "width": null
      }
     },
     "48f63922d4f84b3884fd616fb5ac1a68": {
      "model_module": "@jupyter-widgets/controls",
      "model_module_version": "1.5.0",
      "model_name": "HTMLModel",
      "state": {
       "_dom_classes": [],
       "_model_module": "@jupyter-widgets/controls",
       "_model_module_version": "1.5.0",
       "_model_name": "HTMLModel",
       "_view_count": null,
       "_view_module": "@jupyter-widgets/controls",
       "_view_module_version": "1.5.0",
       "_view_name": "HTMLView",
       "description": "",
       "description_tooltip": null,
       "layout": "IPY_MODEL_21fa8f63cd9a43e8aabdfe5ca1bb9f06",
       "placeholder": "​",
       "style": "IPY_MODEL_0cc47dd51953452f8ce21d0ec3ec091d",
       "value": " 147235/147235 [00:26&lt;00:00, 3662.25it/s]"
      }
     },
     "643243f5cc36421da60f2116986e2cce": {
      "model_module": "@jupyter-widgets/controls",
      "model_module_version": "1.5.0",
      "model_name": "FloatProgressModel",
      "state": {
       "_dom_classes": [],
       "_model_module": "@jupyter-widgets/controls",
       "_model_module_version": "1.5.0",
       "_model_name": "FloatProgressModel",
       "_view_count": null,
       "_view_module": "@jupyter-widgets/controls",
       "_view_module_version": "1.5.0",
       "_view_name": "ProgressView",
       "bar_style": "success",
       "description": "",
       "description_tooltip": null,
       "layout": "IPY_MODEL_975efaed7d0748a9afadf64b585340f5",
       "max": 147235,
       "min": 0,
       "orientation": "horizontal",
       "style": "IPY_MODEL_a84da4b4c7854fbb9e6d68b9d596ffec",
       "value": 147235
      }
     },
     "72abbc1974084729b729d8b38ffa8762": {
      "model_module": "@jupyter-widgets/base",
      "model_module_version": "1.2.0",
      "model_name": "LayoutModel",
      "state": {
       "_model_module": "@jupyter-widgets/base",
       "_model_module_version": "1.2.0",
       "_model_name": "LayoutModel",
       "_view_count": null,
       "_view_module": "@jupyter-widgets/base",
       "_view_module_version": "1.2.0",
       "_view_name": "LayoutView",
       "align_content": null,
       "align_items": null,
       "align_self": null,
       "border": null,
       "bottom": null,
       "display": null,
       "flex": null,
       "flex_flow": null,
       "grid_area": null,
       "grid_auto_columns": null,
       "grid_auto_flow": null,
       "grid_auto_rows": null,
       "grid_column": null,
       "grid_gap": null,
       "grid_row": null,
       "grid_template_areas": null,
       "grid_template_columns": null,
       "grid_template_rows": null,
       "height": null,
       "justify_content": null,
       "justify_items": null,
       "left": null,
       "margin": null,
       "max_height": null,
       "max_width": null,
       "min_height": null,
       "min_width": null,
       "object_fit": null,
       "object_position": null,
       "order": null,
       "overflow": null,
       "overflow_x": null,
       "overflow_y": null,
       "padding": null,
       "right": null,
       "top": null,
       "visibility": null,
       "width": null
      }
     },
     "72c5336ed4f04137bd398a3ab82e14e0": {
      "model_module": "@jupyter-widgets/controls",
      "model_module_version": "1.5.0",
      "model_name": "HTMLModel",
      "state": {
       "_dom_classes": [],
       "_model_module": "@jupyter-widgets/controls",
       "_model_module_version": "1.5.0",
       "_model_name": "HTMLModel",
       "_view_count": null,
       "_view_module": "@jupyter-widgets/controls",
       "_view_module_version": "1.5.0",
       "_view_name": "HTMLView",
       "description": "",
       "description_tooltip": null,
       "layout": "IPY_MODEL_cccdc9e12608418b84a75ed98c0a4f2c",
       "placeholder": "​",
       "style": "IPY_MODEL_26e52a49e7ae4f42ab218f7c3d991f68",
       "value": "100%"
      }
     },
     "7e2a3e4ddb1d479bb78fe1f185b5f9da": {
      "model_module": "@jupyter-widgets/controls",
      "model_module_version": "1.5.0",
      "model_name": "HTMLModel",
      "state": {
       "_dom_classes": [],
       "_model_module": "@jupyter-widgets/controls",
       "_model_module_version": "1.5.0",
       "_model_name": "HTMLModel",
       "_view_count": null,
       "_view_module": "@jupyter-widgets/controls",
       "_view_module_version": "1.5.0",
       "_view_name": "HTMLView",
       "description": "",
       "description_tooltip": null,
       "layout": "IPY_MODEL_3ba9f9bf67c341c5a521c8e463b895bb",
       "placeholder": "​",
       "style": "IPY_MODEL_dbba7ac4eeeb4d77a8392c612e75a151",
       "value": "100%"
      }
     },
     "837970d9bafb4e2ea0bf53229430e3a8": {
      "model_module": "@jupyter-widgets/base",
      "model_module_version": "1.2.0",
      "model_name": "LayoutModel",
      "state": {
       "_model_module": "@jupyter-widgets/base",
       "_model_module_version": "1.2.0",
       "_model_name": "LayoutModel",
       "_view_count": null,
       "_view_module": "@jupyter-widgets/base",
       "_view_module_version": "1.2.0",
       "_view_name": "LayoutView",
       "align_content": null,
       "align_items": null,
       "align_self": null,
       "border": null,
       "bottom": null,
       "display": null,
       "flex": null,
       "flex_flow": null,
       "grid_area": null,
       "grid_auto_columns": null,
       "grid_auto_flow": null,
       "grid_auto_rows": null,
       "grid_column": null,
       "grid_gap": null,
       "grid_row": null,
       "grid_template_areas": null,
       "grid_template_columns": null,
       "grid_template_rows": null,
       "height": null,
       "justify_content": null,
       "justify_items": null,
       "left": null,
       "margin": null,
       "max_height": null,
       "max_width": null,
       "min_height": null,
       "min_width": null,
       "object_fit": null,
       "object_position": null,
       "order": null,
       "overflow": null,
       "overflow_x": null,
       "overflow_y": null,
       "padding": null,
       "right": null,
       "top": null,
       "visibility": null,
       "width": null
      }
     },
     "975efaed7d0748a9afadf64b585340f5": {
      "model_module": "@jupyter-widgets/base",
      "model_module_version": "1.2.0",
      "model_name": "LayoutModel",
      "state": {
       "_model_module": "@jupyter-widgets/base",
       "_model_module_version": "1.2.0",
       "_model_name": "LayoutModel",
       "_view_count": null,
       "_view_module": "@jupyter-widgets/base",
       "_view_module_version": "1.2.0",
       "_view_name": "LayoutView",
       "align_content": null,
       "align_items": null,
       "align_self": null,
       "border": null,
       "bottom": null,
       "display": null,
       "flex": null,
       "flex_flow": null,
       "grid_area": null,
       "grid_auto_columns": null,
       "grid_auto_flow": null,
       "grid_auto_rows": null,
       "grid_column": null,
       "grid_gap": null,
       "grid_row": null,
       "grid_template_areas": null,
       "grid_template_columns": null,
       "grid_template_rows": null,
       "height": null,
       "justify_content": null,
       "justify_items": null,
       "left": null,
       "margin": null,
       "max_height": null,
       "max_width": null,
       "min_height": null,
       "min_width": null,
       "object_fit": null,
       "object_position": null,
       "order": null,
       "overflow": null,
       "overflow_x": null,
       "overflow_y": null,
       "padding": null,
       "right": null,
       "top": null,
       "visibility": null,
       "width": null
      }
     },
     "a84da4b4c7854fbb9e6d68b9d596ffec": {
      "model_module": "@jupyter-widgets/controls",
      "model_module_version": "1.5.0",
      "model_name": "ProgressStyleModel",
      "state": {
       "_model_module": "@jupyter-widgets/controls",
       "_model_module_version": "1.5.0",
       "_model_name": "ProgressStyleModel",
       "_view_count": null,
       "_view_module": "@jupyter-widgets/base",
       "_view_module_version": "1.2.0",
       "_view_name": "StyleView",
       "bar_color": null,
       "description_width": ""
      }
     },
     "b0fe466f5b3e4ebaaa65bf39c01050be": {
      "model_module": "@jupyter-widgets/controls",
      "model_module_version": "1.5.0",
      "model_name": "HBoxModel",
      "state": {
       "_dom_classes": [],
       "_model_module": "@jupyter-widgets/controls",
       "_model_module_version": "1.5.0",
       "_model_name": "HBoxModel",
       "_view_count": null,
       "_view_module": "@jupyter-widgets/controls",
       "_view_module_version": "1.5.0",
       "_view_name": "HBoxView",
       "box_style": "",
       "children": [
        "IPY_MODEL_72c5336ed4f04137bd398a3ab82e14e0",
        "IPY_MODEL_2050041796af483b90150f8d0eafd448",
        "IPY_MODEL_0161390f4e2045a68b58aa28af37a09b"
       ],
       "layout": "IPY_MODEL_3c6820b436ca4bcea2b6116b11cca895"
      }
     },
     "b3a288dca73f4c3db35f38ade58dba8d": {
      "model_module": "@jupyter-widgets/controls",
      "model_module_version": "1.5.0",
      "model_name": "HBoxModel",
      "state": {
       "_dom_classes": [],
       "_model_module": "@jupyter-widgets/controls",
       "_model_module_version": "1.5.0",
       "_model_name": "HBoxModel",
       "_view_count": null,
       "_view_module": "@jupyter-widgets/controls",
       "_view_module_version": "1.5.0",
       "_view_name": "HBoxView",
       "box_style": "",
       "children": [
        "IPY_MODEL_7e2a3e4ddb1d479bb78fe1f185b5f9da",
        "IPY_MODEL_30c45e3049f24ff2a8247ec2e8176e1e",
        "IPY_MODEL_48f63922d4f84b3884fd616fb5ac1a68"
       ],
       "layout": "IPY_MODEL_338a528b47c946c5a7a2e6649655631d"
      }
     },
     "b5f7f72ba1ba46cfbc7040acb04d8ccf": {
      "model_module": "@jupyter-widgets/controls",
      "model_module_version": "1.5.0",
      "model_name": "ProgressStyleModel",
      "state": {
       "_model_module": "@jupyter-widgets/controls",
       "_model_module_version": "1.5.0",
       "_model_name": "ProgressStyleModel",
       "_view_count": null,
       "_view_module": "@jupyter-widgets/base",
       "_view_module_version": "1.2.0",
       "_view_name": "StyleView",
       "bar_color": null,
       "description_width": ""
      }
     },
     "b5fd5d9d5c894e54bc030c46d597e498": {
      "model_module": "@jupyter-widgets/controls",
      "model_module_version": "1.5.0",
      "model_name": "HTMLModel",
      "state": {
       "_dom_classes": [],
       "_model_module": "@jupyter-widgets/controls",
       "_model_module_version": "1.5.0",
       "_model_name": "HTMLModel",
       "_view_count": null,
       "_view_module": "@jupyter-widgets/controls",
       "_view_module_version": "1.5.0",
       "_view_name": "HTMLView",
       "description": "",
       "description_tooltip": null,
       "layout": "IPY_MODEL_72abbc1974084729b729d8b38ffa8762",
       "placeholder": "​",
       "style": "IPY_MODEL_fc4c748a5bdf4f7e8baaa3bb7eafcb7d",
       "value": " 147235/147235 [00:03&lt;00:00, 84094.02it/s]"
      }
     },
     "caedf4e5ba7c490c9c193efc5efcb071": {
      "model_module": "@jupyter-widgets/base",
      "model_module_version": "1.2.0",
      "model_name": "LayoutModel",
      "state": {
       "_model_module": "@jupyter-widgets/base",
       "_model_module_version": "1.2.0",
       "_model_name": "LayoutModel",
       "_view_count": null,
       "_view_module": "@jupyter-widgets/base",
       "_view_module_version": "1.2.0",
       "_view_name": "LayoutView",
       "align_content": null,
       "align_items": null,
       "align_self": null,
       "border": null,
       "bottom": null,
       "display": null,
       "flex": null,
       "flex_flow": null,
       "grid_area": null,
       "grid_auto_columns": null,
       "grid_auto_flow": null,
       "grid_auto_rows": null,
       "grid_column": null,
       "grid_gap": null,
       "grid_row": null,
       "grid_template_areas": null,
       "grid_template_columns": null,
       "grid_template_rows": null,
       "height": null,
       "justify_content": null,
       "justify_items": null,
       "left": null,
       "margin": null,
       "max_height": null,
       "max_width": null,
       "min_height": null,
       "min_width": null,
       "object_fit": null,
       "object_position": null,
       "order": null,
       "overflow": null,
       "overflow_x": null,
       "overflow_y": null,
       "padding": null,
       "right": null,
       "top": null,
       "visibility": null,
       "width": null
      }
     },
     "cccdc9e12608418b84a75ed98c0a4f2c": {
      "model_module": "@jupyter-widgets/base",
      "model_module_version": "1.2.0",
      "model_name": "LayoutModel",
      "state": {
       "_model_module": "@jupyter-widgets/base",
       "_model_module_version": "1.2.0",
       "_model_name": "LayoutModel",
       "_view_count": null,
       "_view_module": "@jupyter-widgets/base",
       "_view_module_version": "1.2.0",
       "_view_name": "LayoutView",
       "align_content": null,
       "align_items": null,
       "align_self": null,
       "border": null,
       "bottom": null,
       "display": null,
       "flex": null,
       "flex_flow": null,
       "grid_area": null,
       "grid_auto_columns": null,
       "grid_auto_flow": null,
       "grid_auto_rows": null,
       "grid_column": null,
       "grid_gap": null,
       "grid_row": null,
       "grid_template_areas": null,
       "grid_template_columns": null,
       "grid_template_rows": null,
       "height": null,
       "justify_content": null,
       "justify_items": null,
       "left": null,
       "margin": null,
       "max_height": null,
       "max_width": null,
       "min_height": null,
       "min_width": null,
       "object_fit": null,
       "object_position": null,
       "order": null,
       "overflow": null,
       "overflow_x": null,
       "overflow_y": null,
       "padding": null,
       "right": null,
       "top": null,
       "visibility": null,
       "width": null
      }
     },
     "d5577dceef1e4abab22fea351bae94ac": {
      "model_module": "@jupyter-widgets/controls",
      "model_module_version": "1.5.0",
      "model_name": "HTMLModel",
      "state": {
       "_dom_classes": [],
       "_model_module": "@jupyter-widgets/controls",
       "_model_module_version": "1.5.0",
       "_model_name": "HTMLModel",
       "_view_count": null,
       "_view_module": "@jupyter-widgets/controls",
       "_view_module_version": "1.5.0",
       "_view_name": "HTMLView",
       "description": "",
       "description_tooltip": null,
       "layout": "IPY_MODEL_d8843321a0a9477fb3cca2ffff77eba6",
       "placeholder": "​",
       "style": "IPY_MODEL_f280eb6dca5a4713af02abe05001b45a",
       "value": "100%"
      }
     },
     "d8843321a0a9477fb3cca2ffff77eba6": {
      "model_module": "@jupyter-widgets/base",
      "model_module_version": "1.2.0",
      "model_name": "LayoutModel",
      "state": {
       "_model_module": "@jupyter-widgets/base",
       "_model_module_version": "1.2.0",
       "_model_name": "LayoutModel",
       "_view_count": null,
       "_view_module": "@jupyter-widgets/base",
       "_view_module_version": "1.2.0",
       "_view_name": "LayoutView",
       "align_content": null,
       "align_items": null,
       "align_self": null,
       "border": null,
       "bottom": null,
       "display": null,
       "flex": null,
       "flex_flow": null,
       "grid_area": null,
       "grid_auto_columns": null,
       "grid_auto_flow": null,
       "grid_auto_rows": null,
       "grid_column": null,
       "grid_gap": null,
       "grid_row": null,
       "grid_template_areas": null,
       "grid_template_columns": null,
       "grid_template_rows": null,
       "height": null,
       "justify_content": null,
       "justify_items": null,
       "left": null,
       "margin": null,
       "max_height": null,
       "max_width": null,
       "min_height": null,
       "min_width": null,
       "object_fit": null,
       "object_position": null,
       "order": null,
       "overflow": null,
       "overflow_x": null,
       "overflow_y": null,
       "padding": null,
       "right": null,
       "top": null,
       "visibility": null,
       "width": null
      }
     },
     "dbba7ac4eeeb4d77a8392c612e75a151": {
      "model_module": "@jupyter-widgets/controls",
      "model_module_version": "1.5.0",
      "model_name": "DescriptionStyleModel",
      "state": {
       "_model_module": "@jupyter-widgets/controls",
       "_model_module_version": "1.5.0",
       "_model_name": "DescriptionStyleModel",
       "_view_count": null,
       "_view_module": "@jupyter-widgets/base",
       "_view_module_version": "1.2.0",
       "_view_name": "StyleView",
       "description_width": ""
      }
     },
     "e2acc8e78c3d46b9bf628f004a8fc315": {
      "model_module": "@jupyter-widgets/controls",
      "model_module_version": "1.5.0",
      "model_name": "HBoxModel",
      "state": {
       "_dom_classes": [],
       "_model_module": "@jupyter-widgets/controls",
       "_model_module_version": "1.5.0",
       "_model_name": "HBoxModel",
       "_view_count": null,
       "_view_module": "@jupyter-widgets/controls",
       "_view_module_version": "1.5.0",
       "_view_name": "HBoxView",
       "box_style": "",
       "children": [
        "IPY_MODEL_d5577dceef1e4abab22fea351bae94ac",
        "IPY_MODEL_643243f5cc36421da60f2116986e2cce",
        "IPY_MODEL_b5fd5d9d5c894e54bc030c46d597e498"
       ],
       "layout": "IPY_MODEL_2b27a5189df648948865ce71173acbe8"
      }
     },
     "f280eb6dca5a4713af02abe05001b45a": {
      "model_module": "@jupyter-widgets/controls",
      "model_module_version": "1.5.0",
      "model_name": "DescriptionStyleModel",
      "state": {
       "_model_module": "@jupyter-widgets/controls",
       "_model_module_version": "1.5.0",
       "_model_name": "DescriptionStyleModel",
       "_view_count": null,
       "_view_module": "@jupyter-widgets/base",
       "_view_module_version": "1.2.0",
       "_view_name": "StyleView",
       "description_width": ""
      }
     },
     "f43586bf7d6a433db238a2788f1fbc88": {
      "model_module": "@jupyter-widgets/controls",
      "model_module_version": "1.5.0",
      "model_name": "DescriptionStyleModel",
      "state": {
       "_model_module": "@jupyter-widgets/controls",
       "_model_module_version": "1.5.0",
       "_model_name": "DescriptionStyleModel",
       "_view_count": null,
       "_view_module": "@jupyter-widgets/base",
       "_view_module_version": "1.2.0",
       "_view_name": "StyleView",
       "description_width": ""
      }
     },
     "fc4c748a5bdf4f7e8baaa3bb7eafcb7d": {
      "model_module": "@jupyter-widgets/controls",
      "model_module_version": "1.5.0",
      "model_name": "DescriptionStyleModel",
      "state": {
       "_model_module": "@jupyter-widgets/controls",
       "_model_module_version": "1.5.0",
       "_model_name": "DescriptionStyleModel",
       "_view_count": null,
       "_view_module": "@jupyter-widgets/base",
       "_view_module_version": "1.2.0",
       "_view_name": "StyleView",
       "description_width": ""
      }
     }
    },
    "version_major": 2,
    "version_minor": 0
   }
  }
 },
 "nbformat": 4,
 "nbformat_minor": 5
}
